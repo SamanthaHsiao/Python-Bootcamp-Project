{
 "cells": [
  {
   "cell_type": "code",
   "execution_count": 3,
   "metadata": {},
   "outputs": [
    {
     "name": "stdout",
     "output_type": "stream",
     "text": [
      "s1s2\n",
      "s1s2\n"
     ]
    }
   ],
   "source": [
    "w = str(input())\n",
    "w1 = str(input())\n",
    "print(w+w1)\n",
    "print(w+w1)"
   ]
  },
  {
   "cell_type": "code",
   "execution_count": 5,
   "metadata": {},
   "outputs": [
    {
     "name": "stdout",
     "output_type": "stream",
     "text": [
      "Beautiful is better than ugly."
     ]
    }
   ],
   "source": [
    "s1 = 'Beautiful'\n",
    "s2 = 'better than ugly.'\n",
    "print(s1, s2, sep = \" is \", end = \"\")\n"
   ]
  },
  {
   "cell_type": "code",
   "execution_count": 10,
   "metadata": {},
   "outputs": [
    {
     "name": "stdout",
     "output_type": "stream",
     "text": [
      "320\n",
      "64.0\n"
     ]
    }
   ],
   "source": [
    "chinese = int(input())\n",
    "english = int(input())\n",
    "math = int(input())\n",
    "social = int(input())\n",
    "science = int(input())\n",
    "\n",
    "# 計算段考總分\n",
    "total = sum([chinese, english, math, social, science])\n",
    "\n",
    "# 計算段考平均\n",
    "average = total/5\n",
    "\n",
    "# 輸出\n",
    "print(total)\n",
    "print(average)"
   ]
  },
  {
   "cell_type": "code",
   "execution_count": 16,
   "metadata": {},
   "outputs": [
    {
     "name": "stdout",
     "output_type": "stream",
     "text": [
      "100,7\n"
     ]
    }
   ],
   "source": [
    "# 請在 __ 分別填入對應的運算符號\n",
    "points = int(input())\n",
    "coupon = points // 10 * 100\n",
    "remain = points % 10\n",
    "\n",
    "print(coupon, remain, sep = ',')"
   ]
  },
  {
   "cell_type": "code",
   "execution_count": 20,
   "metadata": {},
   "outputs": [
    {
     "name": "stdout",
     "output_type": "stream",
     "text": [
      "False\n"
     ]
    }
   ],
   "source": [
    "# 輸入數字\n",
    "s = str(input())   # 阿緯猜的數字\n",
    "a = str(input())   # 小美猜的數字\n",
    "\n",
    "# 輸出結果\n",
    "print(s == a)"
   ]
  },
  {
   "cell_type": "code",
   "execution_count": 24,
   "metadata": {},
   "outputs": [
    {
     "name": "stdout",
     "output_type": "stream",
     "text": [
      "True\n"
     ]
    }
   ],
   "source": [
    "# 輸出為 1 行，如果阿緯得 11 點後才能睡輸出 True，可以 11 點前睡的話輸出 False\n",
    "# 如果作業份數超過 3 份或明天有很多小考的話，阿緯就得 11 點後才能睡覺了。\n",
    "# 輸入\n",
    "homeworks = int(input())\n",
    "quizzes = input()\n",
    "\n",
    "# 輸出\n",
    "print(homeworks > 3 or quizzes != \"開心! 明天沒有小考!\")"
   ]
  },
  {
   "cell_type": "code",
   "execution_count": 26,
   "metadata": {},
   "outputs": [
    {
     "name": "stdout",
     "output_type": "stream",
     "text": [
      "False\n"
     ]
    }
   ],
   "source": [
    "N=int(input())\n",
    "print(N%3==0)"
   ]
  },
  {
   "cell_type": "code",
   "execution_count": 27,
   "metadata": {},
   "outputs": [
    {
     "name": "stdout",
     "output_type": "stream",
     "text": [
      "A\n"
     ]
    }
   ],
   "source": [
    "info=input()\n",
    "if info =='social science':\n",
    "    print('A')\n",
    "elif info == 'undefined':\n",
    "    print('skip')\n",
    "else:\n",
    "    print('B')"
   ]
  },
  {
   "cell_type": "code",
   "execution_count": 35,
   "metadata": {},
   "outputs": [
    {
     "name": "stdout",
     "output_type": "stream",
     "text": [
      "Fail\n"
     ]
    }
   ],
   "source": [
    "n = int(input())\n",
    "if n < 0 or n > 100:\n",
    "    print(\"Error\")\n",
    "elif n < 60:\n",
    "    print(\"Fail\")\n",
    "elif n >= 60:\n",
    "    print(\"Pass\")"
   ]
  },
  {
   "cell_type": "code",
   "execution_count": 4,
   "metadata": {},
   "outputs": [
    {
     "name": "stdout",
     "output_type": "stream",
     "text": [
      "自己出去玩\n"
     ]
    }
   ],
   "source": [
    "weather=input()\n",
    "friends=int(input())\n",
    "if weather == '雨天':\n",
    "    print('自己在家玩')\n",
    "elif (weather == '晴天' or weather == '陰天') and friends > 0:\n",
    "    print('跟朋友出去玩')\n",
    "else:\n",
    "    print('自己出去玩')\n",
    "    "
   ]
  },
  {
   "cell_type": "code",
   "execution_count": 9,
   "metadata": {},
   "outputs": [
    {
     "name": "stdout",
     "output_type": "stream",
     "text": [
      "F\n"
     ]
    }
   ],
   "source": [
    "grade=int(input(\"\"))\n",
    "if 90 <= grade <=100:\n",
    "    print(\"A+\")\n",
    "elif 85 <= grade <=89:\n",
    "    print(\"A\")\n",
    "elif 80 <= grade <=84:\n",
    "    print(\"A-\")\n",
    "elif 77 <= grade <=79:\n",
    "    print(\"B+\")\n",
    "elif 73 <= grade <=76:\n",
    "    print(\"B\")\n",
    "elif 70 <= grade <=72:\n",
    "    print(\"B-\")\n",
    "elif 67 <= grade <=69:\n",
    "    print(\"C+\")\n",
    "elif 63 <= grade <=66:\n",
    "    print(\"C\")\n",
    "elif 60 <= grade <=62:\n",
    "    print(\"C-\")\n",
    "elif 0 < grade <=59:\n",
    "    print(\"F\")\n",
    "else:\n",
    "    print(\"X\")"
   ]
  },
  {
   "cell_type": "code",
   "execution_count": 11,
   "metadata": {},
   "outputs": [
    {
     "name": "stdout",
     "output_type": "stream",
     "text": [
      "B+\n"
     ]
    }
   ],
   "source": [
    "grade=int(input(\"\"))\n",
    "if 90 <= grade <=100:\n",
    "    print(\"A+\")\n",
    "elif 85 <= grade :\n",
    "    print(\"A\")\n",
    "elif 80 <= grade:\n",
    "    print(\"A-\")\n",
    "elif 77 <= grade :\n",
    "    print(\"B+\")\n",
    "elif 73 <= grade:\n",
    "    print(\"B\")\n",
    "elif 70 <= grade:\n",
    "    print(\"B-\")\n",
    "elif 67 <= grade:\n",
    "    print(\"C+\")\n",
    "elif 63 <= grade:\n",
    "    print(\"C\")\n",
    "elif 60 <= grade:\n",
    "    print(\"C-\")\n",
    "elif 0 < grade:\n",
    "    print(\"F\")\n",
    "else:\n",
    "    print(\"X\")"
   ]
  },
  {
   "cell_type": "code",
   "execution_count": 15,
   "metadata": {},
   "outputs": [
    {
     "name": "stdout",
     "output_type": "stream",
     "text": [
      "推打\n"
     ]
    }
   ],
   "source": [
    "hand = input()\n",
    "position = input()\n",
    "if hand == 'R': \n",
    "    if (position == 'SS' or position == '3B' or position == 'LF'):\n",
    "        print('拉打')\n",
    "    else:\n",
    "        print('推打')\n",
    "elif hand == 'L': \n",
    "    if (position == 'SS' or position == '3B' or position == 'LF'):\n",
    "        print('推打')\n",
    "    else:\n",
    "        print('拉打')"
   ]
  },
  {
   "cell_type": "code",
   "execution_count": 18,
   "metadata": {},
   "outputs": [
    {
     "name": "stdout",
     "output_type": "stream",
     "text": [
      "1007.0\n"
     ]
    }
   ],
   "source": [
    "n1=int(input())\n",
    "n2=int(input())\n",
    "op=str(input())\n",
    "\n",
    "if op == '+':\n",
    "    print(float(n1+n2))\n",
    "if op == '-':\n",
    "    print(float(n1-n2))\n",
    "if op == '*':\n",
    "    print(float(n1*n2))\n",
    "if op == '/':\n",
    "    print(float(n1/n2))"
   ]
  },
  {
   "cell_type": "code",
   "execution_count": 25,
   "metadata": {},
   "outputs": [
    {
     "name": "stdout",
     "output_type": "stream",
     "text": [
      "35\n"
     ]
    }
   ],
   "source": [
    "n=int(input())\n",
    "if n%5 !=0:\n",
    "    print(((n//5)+1)*5)\n",
    "if n%5 ==0:\n",
    "    print((n//5)*5)"
   ]
  },
  {
   "cell_type": "code",
   "execution_count": 27,
   "metadata": {},
   "outputs": [
    {
     "name": "stdout",
     "output_type": "stream",
     "text": [
      "False\n"
     ]
    }
   ],
   "source": [
    "n=int(input())\n",
    "if n%2==0:\n",
    "    print('True')\n",
    "else:\n",
    "    print('False')"
   ]
  },
  {
   "cell_type": "code",
   "execution_count": 30,
   "metadata": {},
   "outputs": [
    {
     "name": "stdout",
     "output_type": "stream",
     "text": [
      "3883374186\n"
     ]
    }
   ],
   "source": [
    "n1=int(input())\n",
    "n2=int(input())\n",
    "if n1%2!=0 and n2%2!=0:\n",
    "    print(n1-n2)\n",
    "elif n1%2==0 and n2%2==0:\n",
    "    print(n1+n2)\n",
    "else:\n",
    "    print(n1*n2)\n",
    "    "
   ]
  },
  {
   "cell_type": "code",
   "execution_count": 35,
   "metadata": {},
   "outputs": [
    {
     "name": "stdout",
     "output_type": "stream",
     "text": [
      "Tiger\n"
     ]
    }
   ],
   "source": [
    "year=int(input())\n",
    "if (year-1911)%12==0:\n",
    "    print('Pig')\n",
    "elif (year-1911)%12==1:\n",
    "    print('Rat')\n",
    "elif (year-1911)%12==2:\n",
    "    print('Ox')\n",
    "elif (year-1911)%12==3:\n",
    "    print('Tiger')\n",
    "elif (year-1911)%12==4:\n",
    "    print('Rabbit')\n",
    "elif (year-1911)%12==5:\n",
    "    print('Dragon')\n",
    "elif (year-1911)%12==6:\n",
    "    print('Snake')\n",
    "elif (year-1911)%12==7:\n",
    "    print('Horse')\n",
    "elif (year-1911)%12==8:\n",
    "    print('Goat')\n",
    "elif (year-1911)%12==9:\n",
    "    print('Monkey')\n",
    "elif (year-1911)%12==10:\n",
    "    print('Rooster')\n",
    "else:\n",
    "    print('Dog')\n",
    "\n"
   ]
  },
  {
   "cell_type": "code",
   "execution_count": 41,
   "metadata": {},
   "outputs": [
    {
     "name": "stdout",
     "output_type": "stream",
     "text": [
      "2331\n",
      "777777777\n"
     ]
    }
   ],
   "source": [
    "n = input()\n",
    "number = input()\n",
    "# 請接續作答\n",
    "print(int(n)*int(number))\n",
    "print(number*int(n))"
   ]
  },
  {
   "cell_type": "code",
   "execution_count": 44,
   "metadata": {},
   "outputs": [
    {
     "name": "stdout",
     "output_type": "stream",
     "text": [
      "888888888888\n",
      "1212121212121212\n"
     ]
    }
   ],
   "source": [
    "a=input()\n",
    "b=input()\n",
    "print(a*int(b))\n",
    "print(b*int(a))"
   ]
  },
  {
   "cell_type": "code",
   "execution_count": 46,
   "metadata": {},
   "outputs": [
    {
     "name": "stdout",
     "output_type": "stream",
     "text": [
      "They are 5 years apart.\n"
     ]
    }
   ],
   "source": [
    "a=int(input())\n",
    "b=int(input())\n",
    "print(f\"They are {b-a} years apart.\")"
   ]
  },
  {
   "cell_type": "code",
   "execution_count": 48,
   "metadata": {},
   "outputs": [
    {
     "name": "stdout",
     "output_type": "stream",
     "text": [
      "19014\n",
      "95279487\n"
     ]
    }
   ],
   "source": [
    "a=input()\n",
    "b=input()\n",
    "print(int(a)+int(b))\n",
    "print(a+b)"
   ]
  },
  {
   "cell_type": "code",
   "execution_count": 50,
   "metadata": {},
   "outputs": [
    {
     "name": "stdout",
     "output_type": "stream",
     "text": [
      "222666/147852\n"
     ]
    }
   ],
   "source": [
    "n1=input()\n",
    "n2=input()\n",
    "print(n1+n2, int(n1)*int(n2), sep='/')"
   ]
  },
  {
   "cell_type": "code",
   "execution_count": 63,
   "metadata": {},
   "outputs": [
    {
     "name": "stdout",
     "output_type": "stream",
     "text": [
      "美國批踢踢 Reddit、以前做分組報告很依賴的 Dropbox 、號稱中國最優質社群但差點消失的知乎、你每天發限時動態的 Instagram ，都主要是由 \"Python\" 來寫的！\n"
     ]
    }
   ],
   "source": [
    "# 輸入關鍵字與\n",
    "keyword = input()\n",
    "text = input()\n",
    "\n",
    "# 標記關鍵字\n",
    "marked_text = text.replace(keyword,  \"\\\"\" + keyword + \"\\\"\")\n",
    "\n",
    "# 輸出結果\n",
    "print(marked_text)"
   ]
  },
  {
   "cell_type": "code",
   "execution_count": 71,
   "metadata": {},
   "outputs": [
    {
     "name": "stdout",
     "output_type": "stream",
     "text": [
      "he ha$ no chance\n"
     ]
    }
   ],
   "source": [
    "w=input()\n",
    "print(w.replace(\"s\",\"$\").replace(\"S\",\"$\"))"
   ]
  },
  {
   "cell_type": "code",
   "execution_count": 77,
   "metadata": {},
   "outputs": [
    {
     "name": "stdout",
     "output_type": "stream",
     "text": [
      "I'm Little Ming, I'm 5 years old.\n",
      "I'm Little Ming's brother, I'm 12 years old\n"
     ]
    }
   ],
   "source": [
    "A=int(input())\n",
    "B=int(input())\n",
    "print(f\"I'm Little Ming, I'm {A} years old.\")\n",
    "print(f\"I'm Little Ming's brother, I'm {A+B} years old.\")"
   ]
  },
  {
   "cell_type": "code",
   "execution_count": 80,
   "metadata": {},
   "outputs": [
    {
     "name": "stdout",
     "output_type": "stream",
     "text": [
      "****是艾倫·亞歷山大·米恩為他的兒子創作的一隻熊造型卡通形象\n"
     ]
    }
   ],
   "source": [
    "A=input()\n",
    "B=input()\n",
    "print(B.replace(A,\"*\"*len(A)))"
   ]
  },
  {
   "cell_type": "code",
   "execution_count": 85,
   "metadata": {},
   "outputs": [
    {
     "name": "stdout",
     "output_type": "stream",
     "text": [
      "Fail\n"
     ]
    }
   ],
   "source": [
    "s=input()\n",
    "if len(s)>=8:\n",
    "    print('Success')\n",
    "else:\n",
    "    print('Fail')\n",
    "    "
   ]
  },
  {
   "cell_type": "code",
   "execution_count": 88,
   "metadata": {},
   "outputs": [
    {
     "name": "stdout",
     "output_type": "stream",
     "text": [
      "False\n"
     ]
    }
   ],
   "source": [
    "s=input()\n",
    "n=int(input())\n",
    "if len(s)==n:\n",
    "    print(\"True\")\n",
    "else:\n",
    "    print(\"False\")"
   ]
  },
  {
   "cell_type": "code",
   "execution_count": 90,
   "metadata": {},
   "outputs": [
    {
     "name": "stdout",
     "output_type": "stream",
     "text": [
      "HELLO\n",
      "hello\n"
     ]
    }
   ],
   "source": [
    "s=input()\n",
    "print(s.upper())\n",
    "print(s.lower())"
   ]
  },
  {
   "cell_type": "code",
   "execution_count": 94,
   "metadata": {},
   "outputs": [
    {
     "name": "stdout",
     "output_type": "stream",
     "text": [
      "131\n"
     ]
    }
   ],
   "source": [
    "a=input()\n",
    "b=input()\n",
    "print(int(ord(a))+ int(ord(b)))"
   ]
  },
  {
   "cell_type": "code",
   "execution_count": 98,
   "metadata": {},
   "outputs": [
    {
     "name": "stdout",
     "output_type": "stream",
     "text": [
      "wtf\n"
     ]
    }
   ],
   "source": [
    "a=input()\n",
    "if a.isupper():\n",
    "    print(a.lower())\n",
    "if a.islower():\n",
    "    print(a.upper())"
   ]
  },
  {
   "cell_type": "code",
   "execution_count": 101,
   "metadata": {},
   "outputs": [
    {
     "name": "stdout",
     "output_type": "stream",
     "text": [
      "Class\n",
      "Python\n"
     ]
    }
   ],
   "source": [
    "s1=input()\n",
    "s2=input()\n",
    "s3=s1\n",
    "s1=s2\n",
    "s2=s3\n",
    "\n",
    "print(s1)\n",
    "print(s2)\n"
   ]
  },
  {
   "cell_type": "code",
   "execution_count": 107,
   "metadata": {},
   "outputs": [
    {
     "name": "stdout",
     "output_type": "stream",
     "text": [
      "苟新日新又新\n"
     ]
    }
   ],
   "source": [
    "s1=input()\n",
    "print(s1[0::2])"
   ]
  },
  {
   "cell_type": "code",
   "execution_count": 117,
   "metadata": {},
   "outputs": [
    {
     "name": "stdout",
     "output_type": "stream",
     "text": [
      "123321\n"
     ]
    }
   ],
   "source": [
    "s=input()\n",
    "print(s+s[::-1])"
   ]
  },
  {
   "cell_type": "code",
   "execution_count": 25,
   "metadata": {},
   "outputs": [
    {
     "name": "stdout",
     "output_type": "stream",
     "text": [
      "['紅蘿蔔', '高麗菜', '菠菜', '醬油', '銅鑼燒']\n"
     ]
    }
   ],
   "source": [
    "l=input().split(',')\n",
    "print(l)\n"
   ]
  },
  {
   "cell_type": "code",
   "execution_count": 35,
   "metadata": {},
   "outputs": [
    {
     "name": "stdout",
     "output_type": "stream",
     "text": [
      "8178\n"
     ]
    }
   ],
   "source": [
    "num=[int(n) for n in input().split('*')]\n",
    "print(num[0]*num[1])"
   ]
  },
  {
   "cell_type": "code",
   "execution_count": 46,
   "metadata": {},
   "outputs": [
    {
     "name": "stdout",
     "output_type": "stream",
     "text": [
      "['b01902137-wayne-huang', 'ntu.edu.tw']\n",
      "b01902137waynehuang\n",
      "b01902137waynehuang@ntu.edu.tw\n"
     ]
    }
   ],
   "source": [
    "mail=input().split('@')\n",
    "print(mail)\n",
    "new_mail=mail[0].replace('+','').replace('-','').replace('.','').replace('-','',)\n",
    "print(new_mail)\n",
    "mail[0]=new_mail\n",
    "mail2='@'.join(mail)\n",
    "print(mail2)"
   ]
  },
  {
   "cell_type": "code",
   "execution_count": 50,
   "metadata": {},
   "outputs": [
    {
     "name": "stdout",
     "output_type": "stream",
     "text": [
      "7:24\n"
     ]
    }
   ],
   "source": [
    "time=input().split(':')\n",
    "minutes=int(input())\n",
    "n=int(time[1])+minutes\n",
    "hour=str(int(time[0])+n//60)\n",
    "m2=str(n%60)\n",
    "time[0]=hour\n",
    "time[1]=m2\n",
    "ans=':'.join(time)\n",
    "print(ans)\n"
   ]
  },
  {
   "cell_type": "code",
   "execution_count": 56,
   "metadata": {},
   "outputs": [
    {
     "name": "stdout",
     "output_type": "stream",
     "text": [
      "沒反應\n"
     ]
    }
   ],
   "source": [
    "name=input()\n",
    "pat=['殘暴戰狼', '伏特加' ,'白金之星']\n",
    "if name in pat:\n",
    "    print(name)\n",
    "else:\n",
    "    print('沒反應')"
   ]
  },
  {
   "cell_type": "code",
   "execution_count": 67,
   "metadata": {},
   "outputs": [
    {
     "name": "stdout",
     "output_type": "stream",
     "text": [
      "T\n"
     ]
    }
   ],
   "source": [
    "num=input()\n",
    "line=['1 2 3', '4 5 6', '7 8 9', '1 4 7','2 5 8', '3 6 9', '1 5 9', '3 5 7']\n",
    "if num in line:\n",
    "    print('T')\n",
    "else:\n",
    "    print('F')"
   ]
  },
  {
   "cell_type": "code",
   "execution_count": 71,
   "metadata": {},
   "outputs": [
    {
     "name": "stdout",
     "output_type": "stream",
     "text": [
      "False\n"
     ]
    }
   ],
   "source": [
    "lst1=input().split(\" \")\n",
    "lst2=input().split(\" \")\n",
    "s=input()\n",
    "if s in lst1 or s in lst2:\n",
    "    print('True')\n",
    "else:\n",
    "    print('False')"
   ]
  },
  {
   "cell_type": "code",
   "execution_count": 75,
   "metadata": {},
   "outputs": [
    {
     "name": "stdout",
     "output_type": "stream",
     "text": [
      "['Taiwan', 'Japan', 'Korea', 'Singapore', 'India']\n",
      "['French', 'Italy', 'England', 'Germany', 'Austria']\n",
      "[['Taiwan', 'Japan', 'Korea', 'Singapore', 'India'], ['French', 'Italy', 'England', 'Germany', 'Austria'], ['USA', 'Canada', 'Mexico']]\n"
     ]
    }
   ],
   "source": [
    "Asia = ['Taiwan', 'Japan', 'Korea', 'Singapore', 'India']\n",
    "Europe = ['French', 'Italy', 'England', 'Germany', 'Austria']\n",
    "Asia_copy = Asia[:]\n",
    "Europe_copy = Europe[:]\n",
    "America = [\"USA\", \"Canada\", \"Mexico\"]\n",
    "World = []\n",
    "World.append(Asia_copy)\n",
    "World.append(Europe_copy)\n",
    "World.append(America)\n",
    "\n",
    "print(Asia_copy)\n",
    "print(Europe_copy)\n",
    "print(World)"
   ]
  },
  {
   "cell_type": "code",
   "execution_count": 78,
   "metadata": {},
   "outputs": [
    {
     "name": "stdout",
     "output_type": "stream",
     "text": [
      "a\n",
      "['b', 'c', 'd', 'e']\n",
      "e\n"
     ]
    }
   ],
   "source": [
    "n=input().split(\",\")\n",
    "print(str(n[0]))\n",
    "print(n[1:5])\n",
    "print(str(n[-1]))\n"
   ]
  },
  {
   "cell_type": "code",
   "execution_count": 3,
   "metadata": {},
   "outputs": [
    {
     "name": "stdout",
     "output_type": "stream",
     "text": [
      "['a', 'b', 'c', 'd']\n",
      "['a', 'b', 'c', 'd', 'a', 'd']\n"
     ]
    }
   ],
   "source": [
    "lst=['a','b','c','d']\n",
    "lst_copy=lst[:]\n",
    "lst_copy.append(lst[0])\n",
    "lst_copy.append(lst[3])\n",
    "print(lst)\n",
    "print(lst_copy)"
   ]
  },
  {
   "cell_type": "code",
   "execution_count": 5,
   "metadata": {},
   "outputs": [
    {
     "name": "stdout",
     "output_type": "stream",
     "text": [
      "['bread', 'soup', 'salad', 'steak', 'cake']\n"
     ]
    }
   ],
   "source": [
    "menu = [\"bread\", \"salad\"]\n",
    "dessert = [\"cake\", \"chocolate\"]\n",
    "\n",
    "menu.insert(1,'soup')\n",
    "menu.insert(3,'steak')\n",
    "menu.extend(dessert)\n",
    "menu.remove('chocolate')\n",
    "print(menu)"
   ]
  },
  {
   "cell_type": "code",
   "execution_count": 9,
   "metadata": {},
   "outputs": [
    {
     "name": "stdout",
     "output_type": "stream",
     "text": [
      "[]\n",
      "\n"
     ]
    }
   ],
   "source": [
    "# 此段程式碼不需特別了解, 該功能為將輸入的資料轉換為串列\n",
    "# 只需知道 my_lst 為一串列, 即可對 my_lst 進行操作完成本題\n",
    "my_lst = input().split(\",\")\n",
    "my_lst.reverse()\n",
    "move=my_lst.pop(0)\n",
    "print(my_lst)\n",
    "print(move)"
   ]
  },
  {
   "cell_type": "code",
   "execution_count": 11,
   "metadata": {},
   "outputs": [
    {
     "name": "stdout",
     "output_type": "stream",
     "text": [
      "['p', 't', 'o']\n"
     ]
    }
   ],
   "source": [
    "lst = ['p', 'y', 't', 'h', 'o', 'n']\n",
    "print(lst[::2])"
   ]
  },
  {
   "cell_type": "code",
   "execution_count": 25,
   "metadata": {},
   "outputs": [
    {
     "name": "stdout",
     "output_type": "stream",
     "text": [
      "55\n",
      "3628800\n"
     ]
    }
   ],
   "source": [
    "# input\n",
    "num = int(input())\n",
    "\n",
    "# calcuation\n",
    "summation = 0\n",
    "product = 1\n",
    "\n",
    "for n in range(1,num+1):\n",
    "\tsummation += n\n",
    "\tproduct *= n\n",
    "\n",
    "# output\n",
    "print(summation)\n",
    "print(product)"
   ]
  },
  {
   "cell_type": "code",
   "execution_count": 39,
   "metadata": {},
   "outputs": [
    {
     "name": "stdout",
     "output_type": "stream",
     "text": [
      "15\n",
      "<class 'str'>\n"
     ]
    }
   ],
   "source": [
    "num=input()\n",
    "a=0\n",
    "for n in num:\n",
    "   a += int(n) \n",
    "print(a)\n",
    "print(type(num))"
   ]
  },
  {
   "cell_type": "code",
   "execution_count": 38,
   "metadata": {},
   "outputs": [
    {
     "name": "stdout",
     "output_type": "stream",
     "text": [
      "10\n",
      "<class 'list'>\n"
     ]
    }
   ],
   "source": [
    "num=input().split()\n",
    "a=0\n",
    "for n in num:\n",
    "   a += int(n) \n",
    "print(a)\n",
    "print(type(num))"
   ]
  },
  {
   "cell_type": "code",
   "execution_count": 6,
   "metadata": {},
   "outputs": [
    {
     "name": "stdout",
     "output_type": "stream",
     "text": [
      "aa 11 xx\n",
      "aa 11 yy\n",
      "aa 22 xx\n",
      "aa 22 yy\n",
      "aa 33 xx\n",
      "aa 33 yy\n",
      "bb 11 xx\n",
      "bb 11 yy\n",
      "bb 22 xx\n",
      "bb 22 yy\n",
      "bb 33 xx\n",
      "bb 33 yy\n",
      "cc 11 xx\n",
      "cc 11 yy\n",
      "cc 22 xx\n",
      "cc 22 yy\n",
      "cc 33 xx\n",
      "cc 33 yy\n",
      "dd 11 xx\n",
      "dd 11 yy\n",
      "dd 22 xx\n",
      "dd 22 yy\n",
      "dd 33 xx\n",
      "dd 33 yy\n"
     ]
    }
   ],
   "source": [
    "w1=input().split()\n",
    "w2=input().split()\n",
    "w3=input().split()\n",
    "for word in w1:\n",
    "    for word2 in w2:\n",
    "        for word3 in w3:\n",
    "            print(word, word2, word3)"
   ]
  },
  {
   "cell_type": "code",
   "execution_count": 12,
   "metadata": {},
   "outputs": [
    {
     "name": "stdout",
     "output_type": "stream",
     "text": [
      "6\n"
     ]
    }
   ],
   "source": [
    "food=input()\n",
    "dislike=input()\n",
    "count=0\n",
    "for f in food:\n",
    "    for d in dislike:\n",
    "        if f==d:\n",
    "            count+=1\n",
    "print(count)\n",
    "    \n"
   ]
  },
  {
   "cell_type": "code",
   "execution_count": 131,
   "metadata": {},
   "outputs": [
    {
     "name": "stdout",
     "output_type": "stream",
     "text": [
      "[4, 3, 2, 2]\n"
     ]
    }
   ],
   "source": [
    "num=input().split(',')\n",
    "l=[]\n",
    "b=[]\n",
    "for n in num:\n",
    "    n=int(n)+1\n",
    "    l.append(n)\n",
    "for n in num:\n",
    "    n=int(n)\n",
    "    b.append(n)\n",
    "l1=l[-1]\n",
    "b1=b[:-1]\n",
    "b1.append(l1)\n",
    "print(b1)"
   ]
  },
  {
   "cell_type": "code",
   "execution_count": 141,
   "metadata": {},
   "outputs": [
    {
     "name": "stdout",
     "output_type": "stream",
     "text": [
      "[1, 2, 10]\n"
     ]
    }
   ],
   "source": [
    "num=input().split(',')\n",
    "l=[]\n",
    "b=[]\n",
    "\n",
    "for n in num:\n",
    "    n=int(n)\n",
    "    l.append(n+1)\n",
    "    b.append(n)\n",
    "b1=b[:-1]\n",
    "b1.append(l[-1])\n",
    "print(b1)\n",
    "\n"
   ]
  },
  {
   "cell_type": "code",
   "execution_count": 2,
   "metadata": {},
   "outputs": [
    {
     "name": "stdout",
     "output_type": "stream",
     "text": [
      "[1, 8, 0]\n"
     ]
    }
   ],
   "source": [
    "num=input().split(',')\n",
    "num_str = ''.join(num)\n",
    "num_int = str(int(num_str)+1)\n",
    "l=[]\n",
    "for i in num_int:\n",
    "    l.append(int(i))    \n",
    "print(l)"
   ]
  },
  {
   "cell_type": "code",
   "execution_count": 10,
   "metadata": {},
   "outputs": [
    {
     "name": "stdout",
     "output_type": "stream",
     "text": [
      "False False False False False True False\n"
     ]
    }
   ],
   "source": [
    "o=input()\n",
    "l=[]\n",
    "for n in o:\n",
    "    if int(n)>6:\n",
    "        l.append(\"True\")\n",
    "    else:\n",
    "        l.append(\"False\")\n",
    "ans=' '.join(l)\n",
    "print(ans)"
   ]
  },
  {
   "cell_type": "code",
   "execution_count": 13,
   "metadata": {},
   "outputs": [
    {
     "name": "stdout",
     "output_type": "stream",
     "text": [
      "9\n"
     ]
    }
   ],
   "source": [
    "num=input().split()\n",
    "count=0\n",
    "for n in num:\n",
    "    if int(n)>=0:\n",
    "        count+=int(n) \n",
    "print(count)"
   ]
  },
  {
   "cell_type": "code",
   "execution_count": 21,
   "metadata": {},
   "outputs": [
    {
     "name": "stdout",
     "output_type": "stream",
     "text": [
      "3\n"
     ]
    }
   ],
   "source": [
    "num1=input().split(\",\")\n",
    "num2=input().split(\",\")\n",
    "count=0\n",
    "for n2 in num2:\n",
    "    if int(n2) >= int(num1[0]) and int(n2) <= int(num1[-1]):\n",
    "        count+=1\n",
    "print(count)   "
   ]
  },
  {
   "cell_type": "code",
   "execution_count": 5,
   "metadata": {},
   "outputs": [
    {
     "name": "stdout",
     "output_type": "stream",
     "text": [
      "2\n"
     ]
    }
   ],
   "source": [
    "word=input()\n",
    "l=[]\n",
    "a=[]\n",
    "ow=['a','e','i','o','u','A','E','I','O','U']\n",
    "\n",
    "for w in word:\n",
    "    l.append(w)  \n",
    "for w1 in l:\n",
    "    if w1 in ow and w1 not in a:\n",
    "        a.append(w1) \n",
    "print(len(a))"
   ]
  },
  {
   "cell_type": "code",
   "execution_count": 15,
   "metadata": {},
   "outputs": [
    {
     "name": "stdout",
     "output_type": "stream",
     "text": [
      "False\n"
     ]
    }
   ],
   "source": [
    "num=input()\n",
    "n1=[]\n",
    "n2=[]\n",
    "n3=[]\n",
    "word=['A','B','C','D','E','F','G','H','I','J','K','L','M','N','O','P','Q','R','S','T','U','V','W','X','Y','Z'\n",
    "      ,'a','b','c','d','e','f','g','h','i','j','k','l','m','n','o','p','q','r','s','t','u','v','w','x','y','z']\n",
    "number=['0','1','2','3','4','5','6','7','8','9']\n",
    "for n in num:\n",
    "    if n in number:\n",
    "        n1.append(n)\n",
    "    elif n in word:\n",
    "        n2.append(n)\n",
    "    else:\n",
    "        n3.append(n)\n",
    "if n1 !=[] and n2 !=[] and n3 ==[]:\n",
    "    print('True')\n",
    "else:\n",
    "    print('False')"
   ]
  },
  {
   "cell_type": "code",
   "execution_count": 20,
   "metadata": {},
   "outputs": [
    {
     "name": "stdout",
     "output_type": "stream",
     "text": [
      "99\n",
      "99\n",
      "67\n",
      "108\n",
      "117\n",
      "98\n"
     ]
    }
   ],
   "source": [
    "word=input()\n",
    "for w in word:\n",
    "    print(ord(w))"
   ]
  },
  {
   "cell_type": "code",
   "execution_count": 13,
   "metadata": {},
   "outputs": [
    {
     "name": "stdout",
     "output_type": "stream",
     "text": [
      "****\n",
      "****\n",
      "****\n"
     ]
    }
   ],
   "source": [
    "num1=int(input())\n",
    "num2=int(input())\n",
    "for n2 in range(1,num2+1):\n",
    "    for n1 in range(1,num1+1):\n",
    "        print(\"*\", end='')\n",
    "    print()\n",
    "        "
   ]
  },
  {
   "cell_type": "code",
   "execution_count": 19,
   "metadata": {},
   "outputs": [
    {
     "name": "stdout",
     "output_type": "stream",
     "text": [
      "55\n",
      "3628800\n"
     ]
    }
   ],
   "source": [
    "num=int(input())\n",
    "n=1\n",
    "n1=0\n",
    "n2=1\n",
    "while n <= num :\n",
    "    n1+=n\n",
    "    n2*=n\n",
    "    n+=1\n",
    "print(n1)\n",
    "print(n2)"
   ]
  },
  {
   "cell_type": "code",
   "execution_count": 3,
   "metadata": {},
   "outputs": [
    {
     "name": "stdout",
     "output_type": "stream",
     "text": [
      "1\n",
      "4\n"
     ]
    }
   ],
   "source": [
    "num=int(input())\n",
    "n=1\n",
    "while n**2 < num:\n",
    "    print(n**2)\n",
    "    n+=1"
   ]
  },
  {
   "cell_type": "code",
   "execution_count": 23,
   "metadata": {},
   "outputs": [
    {
     "name": "stdout",
     "output_type": "stream",
     "text": [
      "1110\n"
     ]
    }
   ],
   "source": [
    "# input\n",
    "n = int(input())\n",
    "\n",
    "# transform\n",
    "res = ''\n",
    "while n >= 1 :\n",
    "\tres += str((n%2))\n",
    "\tn//=2\n",
    "res=res[::-1]\n",
    "\n",
    "# output\n",
    "print(res)"
   ]
  },
  {
   "cell_type": "code",
   "execution_count": 50,
   "metadata": {},
   "outputs": [
    {
     "name": "stdout",
     "output_type": "stream",
     "text": [
      "True\n"
     ]
    }
   ],
   "source": [
    "n = int(input())\n",
    "n1 = 1\n",
    "while 4**n1 <= n:\n",
    "     if 4**n1 == n:\n",
    "         print(\"True\")\n",
    "         break\n",
    "     if 4**n1 != n:\n",
    "         n1+=1\n",
    "if 4**n1 > n:\n",
    "    print(\"False\")\n"
   ]
  },
  {
   "cell_type": "code",
   "execution_count": 7,
   "metadata": {},
   "outputs": [
    {
     "name": "stdout",
     "output_type": "stream",
     "text": [
      "True\n"
     ]
    }
   ],
   "source": [
    "x=int(input())\n",
    "n=0\n",
    "while 2**n <= x:\n",
    "    if 2**n == x:\n",
    "        print(\"True\")\n",
    "        break\n",
    "    else:\n",
    "        n+=1\n",
    "if 2**n > x:\n",
    "    print(\"False\")\n",
    "    "
   ]
  },
  {
   "cell_type": "code",
   "execution_count": 24,
   "metadata": {},
   "outputs": [
    {
     "name": "stdout",
     "output_type": "stream",
     "text": [
      "47\n"
     ]
    }
   ],
   "source": [
    "buy=int(input())\n",
    "n=int(input())\n",
    "total=buy #先指定已買數量給total\n",
    "while buy >= n: #當buy數量大於n\n",
    "    n1= buy//n  #送的數量\n",
    "    total+=n1   #變更total\n",
    "    buy=n1+(buy%n) #變更買的數量：送的數量＋之前沒有被計算的瓶子\n",
    "print(total)"
   ]
  },
  {
   "cell_type": "code",
   "execution_count": 88,
   "metadata": {},
   "outputs": [
    {
     "name": "stdout",
     "output_type": "stream",
     "text": [
      "False\n"
     ]
    }
   ],
   "source": [
    "x=int(input())\n",
    "n=[2,3,5]\n",
    "\n",
    "for n1 in n:\n",
    "    while x%n1==0:\n",
    "        x=x//n1\n",
    "    if x==1:\n",
    "        print(\"True\")\n",
    "        break\n",
    "\n",
    "if x!=1:\n",
    "    print(\"False\")"
   ]
  },
  {
   "cell_type": "code",
   "execution_count": 93,
   "metadata": {},
   "outputs": [
    {
     "name": "stdout",
     "output_type": "stream",
     "text": [
      "[]\n"
     ]
    }
   ],
   "source": [
    "output = []\n",
    "n = int(input())\n",
    "data = [int(i) for i in input().replace('[', '').replace(']', '').split(',')]\n",
    "for i in range(len(data) - n + 1):\n",
    "    if n==0:\n",
    "        output=[]\n",
    "    else:\n",
    "        output.append(sum(data[i : i+n]) / n)\n",
    "\n",
    "print(output)"
   ]
  },
  {
   "cell_type": "code",
   "execution_count": 99,
   "metadata": {},
   "outputs": [
    {
     "name": "stdout",
     "output_type": "stream",
     "text": [
      "{'A課程': [60, 100, '60%', '600'], 'B課程': [23, 30, '77%', '200']}\n"
     ]
    }
   ],
   "source": [
    "s = ['A課程 報名人數/招生人數/費用:60/100/600', 'B課程 報名人數/招生人數/費用:23/30/200']\n",
    "course = {}\n",
    "\n",
    "for i in range(len(s)):\n",
    "    sign_up_num = s[i].split(':')[1].split('/')[0]\n",
    "    admissions_num = s[i].split(':')[1].split('/')[1]\n",
    "    fee = s[i].split(':')[1].split('/')[2]\n",
    "    schedule = str(round(int(sign_up_num) / int(admissions_num) * 100)) + '%'\n",
    "    course[s[i].split()[0]] = [int(sign_up_num), int(admissions_num), schedule, fee]\n",
    "    \n",
    "print(course)"
   ]
  },
  {
   "cell_type": "code",
   "execution_count": 101,
   "metadata": {},
   "outputs": [
    {
     "name": "stdout",
     "output_type": "stream",
     "text": [
      "47\n"
     ]
    }
   ],
   "source": [
    "b=int(input())\n",
    "c=int(input())\n",
    "t=b\n",
    "\n",
    "while b>=c:\n",
    "    c1= b//c\n",
    "    t+=c1\n",
    "    b=c1+b%c\n",
    "print(t)\n",
    "    \n",
    "    "
   ]
  },
  {
   "cell_type": "code",
   "execution_count": 3,
   "metadata": {},
   "outputs": [
    {
     "name": "stdout",
     "output_type": "stream",
     "text": [
      "\n",
      "哈囉你好嗎\n",
      "衷心感謝\n",
      "珍重再見\n",
      "期待再相逢\n",
      "        \n"
     ]
    }
   ],
   "source": [
    "def hello():\n",
    "  print(\"\"\"\n",
    "哈囉你好嗎\n",
    "衷心感謝\n",
    "珍重再見\n",
    "期待再相逢\n",
    "        \"\"\")\n",
    "    \n",
    "hello()"
   ]
  },
  {
   "cell_type": "code",
   "execution_count": 10,
   "metadata": {},
   "outputs": [
    {
     "name": "stdout",
     "output_type": "stream",
     "text": [
      "哈囉你好嗎\n",
      "衷心感謝\n",
      "珍重再見\n",
      "期待再相逢\n",
      "\n"
     ]
    }
   ],
   "source": [
    "def hello():\n",
    "  a=\"哈囉你好嗎。衷心感謝。珍重再見。期待再相逢。\"\n",
    "  print(a.replace('。','\\n'))\n",
    "    \n",
    "hello()"
   ]
  },
  {
   "cell_type": "code",
   "execution_count": 14,
   "metadata": {},
   "outputs": [
    {
     "name": "stdout",
     "output_type": "stream",
     "text": [
      "1007.0\n"
     ]
    }
   ],
   "source": [
    "def calculator(num1, num2, op):\n",
    "    if op==\"+\":\n",
    "        ans=float(num1+num2)\n",
    "    if op==\"-\":\n",
    "        ans=float(num1-num2)\n",
    "    if op==\"*\":\n",
    "        ans=float(num1*num2)\n",
    "    if op==\"/\":\n",
    "        ans=float(num1/num2)   \n",
    "    return ans\n",
    "\n",
    "print(calculator(1111, 104, \"-\"))"
   ]
  },
  {
   "cell_type": "code",
   "execution_count": 16,
   "metadata": {},
   "outputs": [
    {
     "name": "stdout",
     "output_type": "stream",
     "text": [
      "請維持社交距離\n"
     ]
    }
   ],
   "source": [
    "def social_distance(x, y):\n",
    "    if (x==\"室內\" and y<=150) or (x==\"室外\" and y<=100):\n",
    "        return \"請維持社交距離\"\n",
    "    else:\n",
    "        return \"\"\n",
    "  \n",
    "#We will judge your code through following scripts.\n",
    "\n",
    "x = input()\n",
    "y = input()\n",
    "print(social_distance(x, int(y)))\n"
   ]
  },
  {
   "cell_type": "code",
   "execution_count": 25,
   "metadata": {},
   "outputs": [
    {
     "name": "stdout",
     "output_type": "stream",
     "text": [
      "16\n"
     ]
    }
   ],
   "source": [
    "def square_check(x):\n",
    "    n=1\n",
    "    while True:\n",
    "        if n**2 < x <= (n+1)**2:\n",
    "            print(n**2)\n",
    "            break\n",
    "        else:\n",
    "            n+=1\n",
    "            \n",
    "n = int(input())\n",
    "square_check(n)"
   ]
  },
  {
   "cell_type": "code",
   "execution_count": 31,
   "metadata": {},
   "outputs": [
    {
     "name": "stdout",
     "output_type": "stream",
     "text": [
      "4\n"
     ]
    }
   ],
   "source": [
    "def square_check(x):\n",
    "    if x**0.5 == int(x**0.5):\n",
    "        return (int(x**0.5)-1)**2\n",
    "    if x**0.5 != int(x**0.5):\n",
    "        return (int(x**0.5))**2\n",
    "                    \n",
    "n = int(input())\n",
    "print(square_check(n))"
   ]
  },
  {
   "cell_type": "code",
   "execution_count": 39,
   "metadata": {},
   "outputs": [
    {
     "name": "stdout",
     "output_type": "stream",
     "text": [
      "False\n"
     ]
    }
   ],
   "source": [
    "s = 'abc'\n",
    "t = 'babc'\n",
    "def isSubStr(s, t):\n",
    "    w=[]\n",
    "    for t1 in t:\n",
    "        for s1 in s:\n",
    "            if s1==t1:\n",
    "                w.append(t1)\n",
    "    w1=''.join(w)\n",
    "    if s==w1:\n",
    "        return True\n",
    "    else:\n",
    "        return False                    \n",
    "print(isSubStr(s, t))"
   ]
  },
  {
   "cell_type": "code",
   "execution_count": 42,
   "metadata": {},
   "outputs": [
    {
     "name": "stdout",
     "output_type": "stream",
     "text": [
      "babc\n"
     ]
    }
   ],
   "source": [
    "s = 'abc'\n",
    "t = 'babc'\n",
    "w=[]\n",
    "for t1 in t:\n",
    "    for s1 in s:\n",
    "        if s1==t1:\n",
    "            w.append(t1)\n",
    "w1=''.join(w)\n",
    "print(w1)\n",
    "if w1==sorted(w1, key=s[0]:-1):\n",
    "    print(\"True\")\n",
    "else:\n",
    "    print(\"False\")"
   ]
  },
  {
   "cell_type": "code",
   "execution_count": 113,
   "metadata": {},
   "outputs": [
    {
     "name": "stdout",
     "output_type": "stream",
     "text": [
      "[1, 2, 3, 8, 8]\n",
      "0\n"
     ]
    }
   ],
   "source": [
    "num=input().split(' ')\n",
    "num_int = [int(n) for n in num]\n",
    "nums = sorted(num_int, reverse=False)\n",
    "print(nums)\n",
    "print(int(nums[-1])-int(nums[-2]))"
   ]
  },
  {
   "cell_type": "code",
   "execution_count": 117,
   "metadata": {},
   "outputs": [
    {
     "name": "stdout",
     "output_type": "stream",
     "text": [
      "Zill\n",
      "Kent\n",
      "Irwin\n",
      "Haden\n",
      "Keitt\n",
      "Chiin Hwang\n"
     ]
    }
   ],
   "source": [
    "word=input().split(',')\n",
    "words=sorted(word,key=len)\n",
    "for w in words:\n",
    "    print(w)"
   ]
  },
  {
   "cell_type": "code",
   "execution_count": 52,
   "metadata": {},
   "outputs": [
    {
     "name": "stdout",
     "output_type": "stream",
     "text": [
      "['btc', 'apple', 'python']\n"
     ]
    }
   ],
   "source": [
    "word=input().split(' ')\n",
    "def words(word):\n",
    "    wl=[]\n",
    "    for w in word:\n",
    "        w1=w[::-1]\n",
    "        wl.append(w1)\n",
    "    return wl\n",
    "r=sorted(words(word))\n",
    "il=[]\n",
    "for i in r:\n",
    "    i1=i[::-1]\n",
    "    il.append(i1)\n",
    "print(il)"
   ]
  },
  {
   "cell_type": "code",
   "execution_count": 190,
   "metadata": {},
   "outputs": [
    {
     "name": "stdout",
     "output_type": "stream",
     "text": [
      "[221, 5, 123]\n"
     ]
    }
   ],
   "source": [
    "def l(nb):\n",
    "    a=0\n",
    "    for n in nb:\n",
    "        for i in n:\n",
    "            a+=int(i)\n",
    "    return a\n",
    "\n",
    "num=input().split(' ')\n",
    "num_sort=sorted(num, key=l)\n",
    "num_int=[int(i) for i in num_sort]\n",
    "print(num_int)"
   ]
  },
  {
   "cell_type": "code",
   "execution_count": 160,
   "metadata": {},
   "outputs": [
    {
     "name": "stdout",
     "output_type": "stream",
     "text": [
      "6\n",
      "5\n",
      "5\n"
     ]
    }
   ],
   "source": [
    "nb=input().split(' ')\n",
    "for n in nb:\n",
    "    a=0\n",
    "    for i in n:\n",
    "        a+=int(i)\n",
    "    print(a)"
   ]
  },
  {
   "cell_type": "code",
   "execution_count": 209,
   "metadata": {},
   "outputs": [
    {
     "name": "stdout",
     "output_type": "stream",
     "text": [
      "1 8 15 20 27 55 2020 "
     ]
    }
   ],
   "source": [
    "num = input().split(' ')\n",
    "num_int=[int(n) for n in num]\n",
    "num_sorted = sorted(num_int)\n",
    "for n in num_sorted:\n",
    "    print(n, end=' ')"
   ]
  },
  {
   "cell_type": "code",
   "execution_count": null,
   "metadata": {},
   "outputs": [],
   "source": [
    "s = 'abc'\n",
    "t = 'babc'\n",
    "w=[]\n",
    "for t1 in t:\n",
    "    for s1 in s:\n",
    "        if s1==t1:\n",
    "            w.append(t1)\n",
    "w1=''.join(w)\n",
    "print(w1)\n",
    "if w1==sorted(w1, key=s[0]:-1):\n",
    "    print(\"True\")\n",
    "else:\n",
    "    print(\"False\")"
   ]
  },
  {
   "cell_type": "code",
   "execution_count": 10,
   "metadata": {},
   "outputs": [
    {
     "name": "stdout",
     "output_type": "stream",
     "text": [
      "['b', 'c']\n",
      "['c']\n",
      "['a', 'c']\n"
     ]
    }
   ],
   "source": [
    "s = ['a','b','c']\n",
    "t = ['b','a','b','c']\n",
    "w=[]\n",
    "for s1 in s:\n",
    "    for t1 in t:\n",
    "        if s1==t1:\n",
    "            w.append(t1)\n",
    "    s.pop(0)\n",
    "    print(s)\n",
    "print(w)\n",
    "        \n",
    "            \n",
    "            "
   ]
  },
  {
   "cell_type": "code",
   "execution_count": 21,
   "metadata": {},
   "outputs": [
    {
     "name": "stdout",
     "output_type": "stream",
     "text": [
      "雨傘 毛帽 太陽眼鏡\n"
     ]
    }
   ],
   "source": [
    "temp=input().split(' ')\n",
    "rainy=int(input())\n",
    "sun=int(input())\n",
    "if rainy>=70 or sun>=8:\n",
    "    print(\"雨傘\", end=' ')\n",
    "if rainy>20 or rainy<70:\n",
    "    if (int(temp[0])+int(temp[1]))/2<=18:\n",
    "        print(\"毛帽\", end=' ')\n",
    "    elif int(temp[0])<=20:\n",
    "        print(\"棒球帽\", end=' ')\n",
    "if rainy<=20 and sun>=3:\n",
    "        print(\"太陽眼鏡\")\n"
   ]
  },
  {
   "cell_type": "code",
   "execution_count": 69,
   "metadata": {},
   "outputs": [],
   "source": [
    "temp=input().split(' ')\n",
    "rainy=int(input())\n",
    "sun=int(input())\n",
    "bring=[]\n",
    "\n",
    "if int(temp[0]) >= int(temp[1]) and (rainy>=0 and rainy<=100) and sun >=0:\n",
    "    if rainy>=70 or sun>=6:\n",
    "        bring.append(\"雨傘\")\n",
    "        \n",
    "    if (int(temp[0])+int(temp[1]))/2<=18:\n",
    "        bring.append(\"毛帽\")\n",
    "    elif rainy>20 and rainy<70 and int(temp[1])<=20:\n",
    "        bring.append(\"棒球帽\")\n",
    "        \n",
    "    if rainy<=20 and sun>=3:\n",
    "        bring.append(\"太陽眼鏡\") \n",
    "        \n",
    "    if bring==[]:\n",
    "        print(\"空手出門\")\n",
    "    else:\n",
    "        print(' '.join(bring))"
   ]
  },
  {
   "cell_type": "code",
   "execution_count": 71,
   "metadata": {},
   "outputs": [
    {
     "name": "stdout",
     "output_type": "stream",
     "text": [
      "0 a\n",
      "1 b\n",
      "2 c\n",
      "0 1\n",
      "1 2\n",
      "2 3\n"
     ]
    }
   ],
   "source": [
    "word=input()\n",
    "number=input()\n",
    "for index, w in enumerate(word):\n",
    "    print(index, w)\n",
    "for index, n in enumerate(number):\n",
    "    print(index, n)"
   ]
  },
  {
   "cell_type": "code",
   "execution_count": 75,
   "metadata": {},
   "outputs": [
    {
     "name": "stdout",
     "output_type": "stream",
     "text": [
      "False\n"
     ]
    }
   ],
   "source": [
    "s='ace'\n",
    "t='cace'\n",
    "def isSubStr(s, t):\n",
    "    w=[]\n",
    "    for t1 in t:\n",
    "        for s1 in s:\n",
    "            if s1==t1:\n",
    "                w.append(t1)\n",
    "    w1=''.join(w)\n",
    "    if s==w1:\n",
    "        return \"True\"\n",
    "    else:\n",
    "        return \"False\"   \n",
    "print(isSubStr(s, t))   "
   ]
  },
  {
   "cell_type": "code",
   "execution_count": 79,
   "metadata": {},
   "outputs": [
    {
     "name": "stdout",
     "output_type": "stream",
     "text": [
      "False\n"
     ]
    }
   ],
   "source": [
    "s='ace'\n",
    "t='cace'\n",
    "def isSubStr(s, t):\n",
    "    w=[]\n",
    "    i=0\n",
    "    for t1 in t:\n",
    "        if t1==s[i]:\n",
    "            w.append(s[i])\n",
    "            i+=1\n",
    "        if i> len(s):\n",
    "            return \"True\"\n",
    "    \n",
    "    return \"False\"           \n",
    "print(isSubStr(s, t))       "
   ]
  },
  {
   "cell_type": "code",
   "execution_count": 86,
   "metadata": {},
   "outputs": [
    {
     "name": "stdout",
     "output_type": "stream",
     "text": [
      "False\n"
     ]
    }
   ],
   "source": [
    "def isSubStr(s, t):\n",
    "    i, j = 0, 0\n",
    "    while i < len(s) and j < len(t):\n",
    "        if s[i] == t[j]:\n",
    "            i += 1\n",
    "        j += 1\n",
    "    return i == len(s)\n",
    "\n",
    "s = 'abcd'\n",
    "t = 'bbabbc'\n",
    "print(isSubStr(s, t))  # 這將返回 True"
   ]
  },
  {
   "cell_type": "code",
   "execution_count": null,
   "metadata": {},
   "outputs": [],
   "source": [
    "def isSubStr(s, t):\n",
    "    i, j = 0, 0\n",
    "    while i < len(s) and j < len(t):\n",
    "        if s[i] == t[j]:\n",
    "            i += 1\n",
    "        j += 1\n",
    "    return i == len(s)\n",
    "\n",
    "s = 'abcd'\n",
    "t = 'bbabbc'\n",
    "print(isSubStr(s, t))  # 這將返回 True"
   ]
  },
  {
   "cell_type": "code",
   "execution_count": 6,
   "metadata": {},
   "outputs": [
    {
     "name": "stdout",
     "output_type": "stream",
     "text": [
      "120\n"
     ]
    }
   ],
   "source": [
    "def fact(m):\n",
    "    if m == 0 or m == 1:\n",
    "        return 1 \n",
    "    else:\n",
    "        return m * fact(m-1)      \n",
    "\n",
    "num = int(input())\n",
    "print(fact(num))"
   ]
  },
  {
   "cell_type": "code",
   "execution_count": 8,
   "metadata": {},
   "outputs": [
    {
     "name": "stdout",
     "output_type": "stream",
     "text": [
      "5\n"
     ]
    }
   ],
   "source": [
    "def f(m):\n",
    "    if m == 0:\n",
    "        return 0\n",
    "    elif m == 1:\n",
    "        return 1\n",
    "    else:\n",
    "        return f(m-1)+f(m-2)    \n",
    "\n",
    "num = int(input())\n",
    "print(f(num))"
   ]
  },
  {
   "cell_type": "code",
   "execution_count": 10,
   "metadata": {},
   "outputs": [
    {
     "name": "stdout",
     "output_type": "stream",
     "text": [
      "28\n"
     ]
    }
   ],
   "source": [
    "def f(n):\n",
    "    if n==0:\n",
    "        return 0\n",
    "    elif n==1:\n",
    "        return 1\n",
    "    else:\n",
    "        return n*f(n-2)-f(n-1)\n",
    "    \n",
    "num=int(input())\n",
    "print(f(num))"
   ]
  },
  {
   "cell_type": "code",
   "execution_count": 12,
   "metadata": {},
   "outputs": [
    {
     "name": "stdout",
     "output_type": "stream",
     "text": [
      "3\n"
     ]
    }
   ],
   "source": [
    "def f(n):\n",
    "    if n==0:\n",
    "        return 0\n",
    "    elif n==1:\n",
    "        return 1\n",
    "    elif n==2:\n",
    "        return 2\n",
    "    else:\n",
    "        return f(n-1)+f(n-2)+f(n-3)\n",
    "    \n",
    "num=int(input())\n",
    "print(f(num))"
   ]
  },
  {
   "cell_type": "code",
   "execution_count": 17,
   "metadata": {},
   "outputs": [
    {
     "name": "stdout",
     "output_type": "stream",
     "text": [
      "28207\n"
     ]
    }
   ],
   "source": [
    "def f(x):\n",
    "    if x>=1 and x<=4:\n",
    "        return x\n",
    "    else:\n",
    "        return f(x-1)+f(x-2)*2+f(x-3)*3+f(x-4)*4\n",
    "    \n",
    "num=int(input())\n",
    "print(f(num))"
   ]
  },
  {
   "cell_type": "code",
   "execution_count": 19,
   "metadata": {},
   "outputs": [
    {
     "name": "stdout",
     "output_type": "stream",
     "text": [
      "120\n"
     ]
    }
   ],
   "source": [
    "def f(n):\n",
    "    if n==0 or n==1:\n",
    "        return 1\n",
    "    else:\n",
    "        return n*f(n-1)\n",
    "    \n",
    "num=int(input())\n",
    "print(f(num))"
   ]
  },
  {
   "cell_type": "code",
   "execution_count": 36,
   "metadata": {},
   "outputs": [
    {
     "name": "stdout",
     "output_type": "stream",
     "text": [
      "社科學院\n",
      "紫色\n"
     ]
    }
   ],
   "source": [
    "num=input()\n",
    "d={'1':['文學院','白色'], '2':['理學院','金黃色'], '3':['社科學院','紫色'],\n",
    "   '4':['醫學院','綠色'], '5':['工學院','橘色'], '6':['生農學院','淺黃色'],\n",
    "   '7':['管理學院','灰色'], '8':['公衛學院','紅色'], '9':['電資學院','藍色'],\n",
    "   'A':['法律學院','紫色'], 'B':['生命科學院','天藍色']}\n",
    "if num[3] in d:\n",
    "    ans='\\n'.join(d[num[3]])\n",
    "print(ans)"
   ]
  },
  {
   "cell_type": "code",
   "execution_count": 43,
   "metadata": {},
   "outputs": [
    {
     "name": "stdout",
     "output_type": "stream",
     "text": [
      "博士班\n",
      "七年級\n"
     ]
    }
   ],
   "source": [
    "num=input()\n",
    "d={'B':'學士班','R':'碩士班','D':'博士班'}\n",
    "b={1:'一年級',2:'二年級',3:'三年級',4:'四年級',5:'五年級',6:'六年級',7:'七年級'}\n",
    "if num[0] in d:\n",
    "    print(d[num[0]])\n",
    "b1=10-int(num[1:3])+1\n",
    "if b1 in b:\n",
    "    print(b[b1])"
   ]
  },
  {
   "cell_type": "code",
   "execution_count": 45,
   "metadata": {},
   "outputs": [
    {
     "name": "stdout",
     "output_type": "stream",
     "text": [
      "{'9487': 1, '94': 1, '狂': 1, '0': 5, '1': 1}\n"
     ]
    }
   ],
   "source": [
    "n = int(input())\n",
    "sentences = []\n",
    "for i in range(n):\n",
    "    sentences.append(input().split())\n",
    "\n",
    "d = {}\n",
    "\n",
    "for i in sentences:\n",
    "    for word in i:\n",
    "        if word not in d:\n",
    "            d[word] = 1\n",
    "        else:\n",
    "            d[word] += 1\n",
    "\n",
    "print(d)"
   ]
  },
  {
   "cell_type": "code",
   "execution_count": 5,
   "metadata": {},
   "outputs": [
    {
     "name": "stdout",
     "output_type": "stream",
     "text": [
      "['153', 'O']\n"
     ]
    }
   ],
   "source": [
    "D=input().split(' ')\n",
    "name=input()\n",
    "d1={}\n",
    "for d in D:\n",
    "    d1[d.split(',')[0]]=d.split(',')[1:3]\n",
    "if name in d1:\n",
    "    print(d1[name])"
   ]
  },
  {
   "cell_type": "code",
   "execution_count": 10,
   "metadata": {},
   "outputs": [
    {
     "name": "stdout",
     "output_type": "stream",
     "text": [
      "函式\n"
     ]
    }
   ],
   "source": [
    "D=input().split(' ')\n",
    "word=input()\n",
    "d1={}\n",
    "for d in D:\n",
    "    d1[d.split(',')[0]]=d.split(',')[1]\n",
    "if word in d1:\n",
    "    print(d1[word])\n",
    "else:\n",
    "    print(\"單字不存在\")"
   ]
  },
  {
   "cell_type": "code",
   "execution_count": 13,
   "metadata": {},
   "outputs": [
    {
     "name": "stdout",
     "output_type": "stream",
     "text": [
      "請輸入阿拉伯數字\n"
     ]
    }
   ],
   "source": [
    "num1 = input()\n",
    "num2 = input()\n",
    "try:\n",
    "\tnum1 = int(num1)\n",
    "\tnum2 = int(num2)\n",
    "\tprint(num1 + num2)\n",
    "except:\n",
    "\tprint(\"請輸入阿拉伯數字\")\n"
   ]
  },
  {
   "cell_type": "code",
   "execution_count": 12,
   "metadata": {},
   "outputs": [
    {
     "name": "stdout",
     "output_type": "stream",
     "text": [
      "4 4 2 "
     ]
    }
   ],
   "source": [
    "word=input().split(' ')\n",
    "sentences=input().lower()\n",
    "\n",
    "d={}\n",
    "for s in sentences:\n",
    "        if s not in d:\n",
    "            d[s]=1\n",
    "        else:\n",
    "            d[s]+=1\n",
    "for w in word:\n",
    "    if w in d:\n",
    "        print(d[w], end=' ')"
   ]
  },
  {
   "cell_type": "code",
   "execution_count": 21,
   "metadata": {},
   "outputs": [
    {
     "name": "stdout",
     "output_type": "stream",
     "text": [
      "1 1\n",
      "2 4\n"
     ]
    }
   ],
   "source": [
    "num=int(input())\n",
    "d={}\n",
    "i=1\n",
    "while i <=num:\n",
    "    d[i]=i**2\n",
    "    i+=1\n",
    "    print(i-1,d[i-1])"
   ]
  },
  {
   "cell_type": "code",
   "execution_count": 24,
   "metadata": {},
   "outputs": [
    {
     "name": "stdout",
     "output_type": "stream",
     "text": [
      "2135,4\n"
     ]
    }
   ],
   "source": [
    "import math\n",
    "x=int(input())\n",
    "m=int(input())\n",
    "n=int(input())\n",
    "\n",
    "powder=math.ceil((m*90+n*50+(x-m-n)*120)/220)\n",
    "egg=math.ceil((m*3+n*2+(x-m-n)*4)/8)\n",
    "cho=math.ceil(m*0.5+(x-m-n)*1.25)\n",
    "berry=math.floor((n*10+(x-m-n)*6)/10)\n",
    "berry2=int(math.fmod((n*10+(x-m-n)*6),10))\n",
    "\n",
    "print(powder*50+egg*76+cho*300+berry*25+berry2*3, end=',')\n",
    "print(egg)\n",
    "\n",
    "\n",
    "\n"
   ]
  },
  {
   "cell_type": "code",
   "execution_count": 53,
   "metadata": {},
   "outputs": [
    {
     "name": "stdout",
     "output_type": "stream",
     "text": [
      "串列長度不足\n"
     ]
    }
   ],
   "source": [
    "num=input().split(\" \")\n",
    "try:\n",
    "   num1=int(num[-1])+int(num[-2])+int(num[-3])\n",
    "   print(num1)\n",
    "except ValueError :\n",
    "    print(\"資料型態不為整數\")\n",
    "except IndexError:\n",
    "    print(\"串列長度不足\")\n",
    "\n",
    "    \n",
    "    "
   ]
  },
  {
   "cell_type": "code",
   "execution_count": 81,
   "metadata": {},
   "outputs": [
    {
     "name": "stdout",
     "output_type": "stream",
     "text": [
      "2020-09-13 12:26:40\n"
     ]
    }
   ],
   "source": [
    "import datetime\n",
    "time=int(input())\n",
    "t1=datetime.datetime.fromtimestamp(time, datetime.timezone.utc)\n",
    "t2 = t1.strftime('%Y-%m-%d %H:%M:%S')\n",
    "print(t2)\n"
   ]
  },
  {
   "cell_type": "code",
   "execution_count": 98,
   "metadata": {},
   "outputs": [
    {
     "name": "stdout",
     "output_type": "stream",
     "text": [
      "56.0\n"
     ]
    }
   ],
   "source": [
    "num=int(input())\n",
    "d={}\n",
    "for i in range(num):\n",
    "    grade=input().split(\" \")\n",
    "    d[grade[0]]=grade[1]\n",
    "search=input().split(\" \")\n",
    "a=0\n",
    "for s in search:\n",
    "    if s in d:\n",
    "        a+=int(d[s])\n",
    "print(a/len(search))"
   ]
  },
  {
   "cell_type": "code",
   "execution_count": 100,
   "metadata": {},
   "outputs": [
    {
     "name": "stdout",
     "output_type": "stream",
     "text": [
      "Wei Huang Wei Lee Huang Lee Huang Wei Wei "
     ]
    }
   ],
   "source": [
    "num=int(input())\n",
    "d={}\n",
    "for i in range(num):\n",
    "    dic=input().split(\" \")\n",
    "    d[dic[0]]=dic[1]\n",
    "search=input().split(\" \")\n",
    "for s in search:\n",
    "    print(d[s], end=\" \")"
   ]
  },
  {
   "cell_type": "code",
   "execution_count": 6,
   "metadata": {},
   "outputs": [
    {
     "name": "stdout",
     "output_type": "stream",
     "text": [
      "104\n",
      "e\n"
     ]
    }
   ],
   "source": [
    "print(ord('h'))\n",
    "print(chr(101))"
   ]
  },
  {
   "cell_type": "code",
   "execution_count": 7,
   "metadata": {},
   "outputs": [
    {
     "name": "stdout",
     "output_type": "stream",
     "text": [
      "bjf"
     ]
    }
   ],
   "source": [
    "cha=list(input())\n",
    "num=list(input())\n",
    "if len(cha)>len(num):\n",
    "    num=num+num[:(len(cha)-len(num))]\n",
    "if len(cha)<len(num):\n",
    "    num=num[:len(cha)]\n",
    "\n",
    "for c, n in zip(cha,num):       \n",
    "    c=chr(ord(c)+int(n))\n",
    "    print(c, end='')\n",
    "\n"
   ]
  },
  {
   "cell_type": "code",
   "execution_count": 2,
   "metadata": {},
   "outputs": [
    {
     "name": "stdout",
     "output_type": "stream",
     "text": [
      "idJpxh"
     ]
    }
   ],
   "source": [
    "cha = list(input())\n",
    "num = list(input())\n",
    "\n",
    "if len(cha) > len(num):\n",
    "    num = num * (len(cha) // len(num)) + num[:len(cha) % len(num)]\n",
    "elif len(cha) < len(num):\n",
    "    num = num[:len(cha)]\n",
    "\n",
    "for c, n in zip(cha, num):       \n",
    "    c = chr(ord(c) + int(n))\n",
    "    print(c, end='')"
   ]
  },
  {
   "cell_type": "code",
   "execution_count": 21,
   "metadata": {},
   "outputs": [
    {
     "name": "stdout",
     "output_type": "stream",
     "text": [
      "A Diamond Is Forever "
     ]
    }
   ],
   "source": [
    "sen=input().split(\" \")\n",
    "ex=['to','a','an','the','from','for','of','and','in']\n",
    "if sen[0] in ex:\n",
    "    sen[0]=sen[0].capitalize()\n",
    "if sen[-1] in ex:\n",
    "    sen[-1]=sen[-1].capitalize()\n",
    "    if s in ex:\n",
    "        print(s,end=' ')\n",
    "    else:\n",
    "        s=s.capitalize()\n",
    "        print(s,end=' ')\n"
   ]
  },
  {
   "cell_type": "code",
   "execution_count": 12,
   "metadata": {},
   "outputs": [
    {
     "name": "stdout",
     "output_type": "stream",
     "text": [
      "6000\n"
     ]
    }
   ],
   "source": [
    "sel=input().split(' ')\n",
    "com=input()\n",
    "money=['1600','1800','2200','2600','2800','3200','3600','6000','6600','8000']\n",
    "if sel[0]=='流水席':\n",
    "    if sel[1]=='泛泛之交':\n",
    "        a=money[0]\n",
    "    if sel[1]=='普通朋友':\n",
    "        a=money[1]\n",
    "    if sel[1]=='好朋友':\n",
    "        a=money[2]\n",
    "    if sel[1]=='死黨':\n",
    "        money[3]\n",
    "if sel[0]=='宴會廳':\n",
    "    if sel[1]=='泛泛之交':\n",
    "        a=money[2]\n",
    "    if sel[1]=='普通朋友':\n",
    "        a=money[3]\n",
    "    if sel[1]=='好朋友':\n",
    "        a=money[4]\n",
    "    if sel[1]=='死黨':\n",
    "        a=money[5]\n",
    "if sel[0]=='五星級飯店':\n",
    "    if sel[1]=='泛泛之交':\n",
    "        a=money[4]\n",
    "    if sel[1]=='普通朋友':\n",
    "        a=money[5]\n",
    "    if sel[1]=='好朋友':\n",
    "        a=money[6]\n",
    "    if sel[1]=='死黨':\n",
    "        a=money[7]\n",
    "        \n",
    "if com=='Y':\n",
    "    a1=money[money.index(a)+2]\n",
    "if com=='N':\n",
    "    a1=a\n",
    "\n",
    "\n",
    "if sel[1]=='死黨' and int(a1) < 6000:\n",
    "    print(6000)\n",
    "else:\n",
    "    print(int(a1))\n",
    "\n",
    "\n",
    "        \n"
   ]
  },
  {
   "cell_type": "code",
   "execution_count": 20,
   "metadata": {},
   "outputs": [
    {
     "name": "stdout",
     "output_type": "stream",
     "text": [
      "6000\n"
     ]
    }
   ],
   "source": [
    "money=['1600','1800','2200','2600','2800','3200','3600','6000','6600','8000']\n",
    "subset={('流水席','泛泛之交'):'1600', ('流水席','普通朋友'):'1800',('流水席','好朋友'):'2200',('流水席','死黨'):'2600',\n",
    "        ('宴會廳','泛泛之交'):'2200',('宴會廳','普通朋友'):'2600',('宴會廳','好朋友'):'2800',('宴會廳','死黨'):'3200',\n",
    "        ('五星級飯店','泛泛之交'):'2800',('五星級飯店','普通朋友'):'3200',('五星級飯店','好朋友'):'3600',('五星級飯店','死黨'):'6000'}\n",
    "sel=input().split(' ')\n",
    "com=input()\n",
    "if (sel[0], sel[1]) in subset:\n",
    "        a=subset[(sel[0], sel[1])]\n",
    "\n",
    "if com=='Y':\n",
    "        a=money[money.index(a)+2]\n",
    "\n",
    "if sel[1]=='死黨' and int(a)<6000:\n",
    "        a=6000\n",
    "\n",
    "print(int(a))"
   ]
  },
  {
   "cell_type": "code",
   "execution_count": 34,
   "metadata": {},
   "outputs": [
    {
     "name": "stdout",
     "output_type": "stream",
     "text": [
      "10\n"
     ]
    }
   ],
   "source": [
    "name=input()\n",
    "school=input()\n",
    "department=input()\n",
    "mail=input()\n",
    "intro=input()\n",
    "motivation=input()\n",
    "time=input().split('小時')\n",
    "back=input()\n",
    "score=5\n",
    "\n",
    "if '會計' in department:\n",
    "    score+=1\n",
    "if len(intro)>200 or len(intro)<50:\n",
    "    score-=1\n",
    "if len(motivation)>100:\n",
    "    score+=1\n",
    "if int(time[0])<5:\n",
    "    score-=1    \n",
    "elif int(time[0])<=16 and int(time[0])>=10:\n",
    "    score+=1\n",
    "elif int(time[0])>=17:    \n",
    "    score+=3\n",
    "if back!='' and len(back)>30:\n",
    "    score+=1    \n",
    "\n",
    "if name=='小華' or mail=='':\n",
    "    score=1\n",
    "\n",
    "if score >10:\n",
    "    score=10\n",
    "\n",
    "print(score)\n",
    "   \n",
    "    "
   ]
  },
  {
   "cell_type": "code",
   "execution_count": 46,
   "metadata": {},
   "outputs": [
    {
     "name": "stdout",
     "output_type": "stream",
     "text": [
      "1\n"
     ]
    }
   ],
   "source": [
    "grade=input().split(',')\n",
    "department=input()\n",
    "if department=='會計系':\n",
    "    if int(grade[0])+int(grade[1])+int(grade[2])+int(grade[3])>=57 and int(grade[0])==15:\n",
    "        print(1)\n",
    "    else:\n",
    "        print(0)\n",
    "if department=='公衛系':\n",
    "    if int(grade[1])+int(grade[2])+int(grade[4])>=38:\n",
    "        print(1)\n",
    "    else:\n",
    "        print(0)\n",
    "if department=='經濟系':\n",
    "    if int(grade[3])+int(grade[4])>=26 and int(grade[2])==15:\n",
    "        print(1)\n",
    "    else:\n",
    "        print(0)\n",
    "if department=='資工系':\n",
    "    if int(grade[1])+int(grade[4])>=27 and int(grade[2])==15:\n",
    "        print(1)\n",
    "    else:\n",
    "        print(0)"
   ]
  },
  {
   "cell_type": "code",
   "execution_count": 55,
   "metadata": {},
   "outputs": [
    {
     "name": "stdout",
     "output_type": "stream",
     "text": [
      "['11115252', '23191675', '31150905', '44434219']\n",
      "10005200\n"
     ]
    }
   ],
   "source": [
    "prize=input().split(',')\n",
    "ray=input().split(',')\n",
    "a=[]\n",
    "a1=0\n",
    "for r in ray:\n",
    "    if r==prize[0]:\n",
    "        a.append(r)\n",
    "        a1+=10000000\n",
    "        continue\n",
    "    elif r==prize[1]:\n",
    "        a.append(r)\n",
    "        a1+=2000000\n",
    "        continue\n",
    "    elif r==prize[2] or r==prize[3] or r==prize[4]:\n",
    "        a.append(r)\n",
    "        a1+=200000\n",
    "        continue\n",
    "    elif r[1:]==prize[2][1:] or r[1:]==prize[3][1:] or r[1:]==prize[4][1:]:\n",
    "        a.append(r)\n",
    "        a1+=40000\n",
    "        continue\n",
    "    elif r[2:]==prize[2][2:] or r[2:]==prize[3][2:] or r[2:]==prize[4][2:]:\n",
    "        a.append(r)\n",
    "        a1+=10000\n",
    "        continue\n",
    "    elif r[3:]==prize[2][3:] or r[3:]==prize[3][3:] or r[3:]==prize[4][3:]:\n",
    "        a.append(r)\n",
    "        a1+=4000\n",
    "        continue \n",
    "    elif r[4:]==prize[2][4:] or r[4:]==prize[3][4:] or r[4:]==prize[4][4:]:\n",
    "        a.append(r)\n",
    "        a1+=1000\n",
    "        continue\n",
    "    elif r[5:]==prize[2][5:] or r[5:]==prize[3][5:] or r[5:]==prize[4][5:]:\n",
    "        a.append(r)\n",
    "        a1+=200\n",
    "        continue \n",
    "    elif r[5:]==prize[5]:\n",
    "        a.append(r)\n",
    "        a1+=200\n",
    "        continue\n",
    "if a1!=0:\n",
    "     a.sort()    \n",
    "     print(a)\n",
    "     print(a1)\n",
    "else:\n",
    "    print(\"No match numbers\")\n",
    "    print(0)"
   ]
  },
  {
   "cell_type": "code",
   "execution_count": 76,
   "metadata": {},
   "outputs": [
    {
     "name": "stdout",
     "output_type": "stream",
     "text": [
      "v=0.0, v0=1.0, a=-0.25, S=2.0, t=4.0\n"
     ]
    }
   ],
   "source": [
    "element=input().split(\",\")\n",
    "v0=1\n",
    "v=element[0]\n",
    "a=element[1]\n",
    "S=element[2]\n",
    "t=element[3]\n",
    "\n",
    "for e in element:\n",
    "    if e=='':\n",
    "        d=element.index(e)\n",
    "        if d==0:\n",
    "            ans=float(v0)+float(a)*float(t)\n",
    "        if d==1:\n",
    "            ans=(float(v)-float(v0))/float(t)\n",
    "        if d==2:\n",
    "            ans=float(v0)*float(t)+0.5*float(a)*float(t)**2\n",
    "        if d==3:\n",
    "            ans=(float(v)-float(v0))/float(a)\n",
    "element[d]=ans\n",
    "\n",
    "print(f\"v={float(element[0])}, v0=1.0, a={float(element[1])}, S={float(element[2])}, t={float(element[3])}\")\n"
   ]
  },
  {
   "cell_type": "code",
   "execution_count": 74,
   "metadata": {},
   "outputs": [
    {
     "ename": "TypeError",
     "evalue": "type str doesn't define __round__ method",
     "output_type": "error",
     "traceback": [
      "\u001b[1;31m---------------------------------------------------------------------------\u001b[0m",
      "\u001b[1;31mTypeError\u001b[0m                                 Traceback (most recent call last)",
      "\u001b[1;32mc:\\Users\\YU HSIAO ROU\\Desktop\\cctest.ipynb Cell 126\u001b[0m line \u001b[0;36m4\n\u001b[0;32m     <a href='vscode-notebook-cell:/c%3A/Users/YU%20HSIAO%20ROU/Desktop/cctest.ipynb#Y236sZmlsZQ%3D%3D?line=35'>36</a>\u001b[0m             \u001b[39mif\u001b[39;00m S\u001b[39m==\u001b[39m\u001b[39m'\u001b[39m\u001b[39m'\u001b[39m:\n\u001b[0;32m     <a href='vscode-notebook-cell:/c%3A/Users/YU%20HSIAO%20ROU/Desktop/cctest.ipynb#Y236sZmlsZQ%3D%3D?line=36'>37</a>\u001b[0m                 S\u001b[39m=\u001b[39m\u001b[39mfloat\u001b[39m(v0)\u001b[39m*\u001b[39m\u001b[39mfloat\u001b[39m(t)\u001b[39m+\u001b[39m((\u001b[39m0.5\u001b[39m\u001b[39m*\u001b[39m\u001b[39mfloat\u001b[39m(a)\u001b[39m*\u001b[39m\u001b[39mfloat\u001b[39m(t))\u001b[39m*\u001b[39m\u001b[39m*\u001b[39m\u001b[39m2\u001b[39m)\n\u001b[1;32m---> <a href='vscode-notebook-cell:/c%3A/Users/YU%20HSIAO%20ROU/Desktop/cctest.ipynb#Y236sZmlsZQ%3D%3D?line=40'>41</a>\u001b[0m \u001b[39mprint\u001b[39m(\u001b[39mf\u001b[39m\u001b[39m\"\u001b[39m\u001b[39mv=\u001b[39m\u001b[39m{\u001b[39;00m\u001b[39mround\u001b[39m(v,\u001b[39m1\u001b[39m)\u001b[39m}\u001b[39;00m\u001b[39m, v0=\u001b[39m\u001b[39m{\u001b[39;00m\u001b[39mround\u001b[39m(v0,\u001b[39m1\u001b[39m)\u001b[39m}\u001b[39;00m\u001b[39m, a=\u001b[39m\u001b[39m{\u001b[39;00m\u001b[39mround\u001b[39m(a,\u001b[39m1\u001b[39m)\u001b[39m}\u001b[39;00m\u001b[39m, S=\u001b[39m\u001b[39m{\u001b[39;00m\u001b[39mround\u001b[39;49m(S,\u001b[39m1\u001b[39;49m)\u001b[39m}\u001b[39;00m\u001b[39m, t=\u001b[39m\u001b[39m{\u001b[39;00m\u001b[39mround\u001b[39m(t,\u001b[39m1\u001b[39m)\u001b[39m}\u001b[39;00m\u001b[39m\"\u001b[39m)        \n",
      "\u001b[1;31mTypeError\u001b[0m: type str doesn't define __round__ method"
     ]
    }
   ],
   "source": [
    "element=input().split(\",\")\n",
    "\n",
    "v0=float(1)\n",
    "v=element[0]\n",
    "a=element[1]\n",
    "S=element[2]\n",
    "t=element[3]\n",
    "\n",
    "if v=='':\n",
    "    if a!='' and t!='':\n",
    "        v=float(v0)+float(a)*float(t)\n",
    "        if S=='':\n",
    "            S=float(v0)*float(t)+((0.5*float(a))*float(t)**2)\n",
    "\n",
    "           \n",
    "if v!='':\n",
    "    if a!='':\n",
    "        if t=='':\n",
    "            t=(float(v)-float(v0))/float(a)\n",
    "            if S=='':\n",
    "                S=float(v0)*float(t)+((0.5*float(a))*float(t)**2)\n",
    "        elif t!='':\n",
    "            if S=='':\n",
    "                S=float(v0)*float(t)+((0.5*float(a))*float(t)**2)\n",
    "    elif a=='':\n",
    "        if t=='':\n",
    "            if S!='':\n",
    "                a=(float(v)**2-float(v0)**2)/(2*float(S))\n",
    "                t=(2*float(S))/(float(v)+float(v0))\n",
    "        elif t!='':\n",
    "            a=(float(v)-float(v0))/float(t)\n",
    "            if S=='':\n",
    "                S=float(v0)*float(t)+((0.5*float(a))*float(t)**2)\n",
    "            \n",
    "        \n",
    "\n",
    "print(f\"v={float(v)}, v0={v0}, a={float(a)}, S={float(S)}, t={float(t)}\")        \n",
    "    "
   ]
  },
  {
   "cell_type": "code",
   "execution_count": 95,
   "metadata": {},
   "outputs": [
    {
     "name": "stdout",
     "output_type": "stream",
     "text": [
      "st\n",
      "['s', 's', 't', 't', 'a']\n",
      "{'s': 2, 't': 2, 'a': 1}\n"
     ]
    }
   ],
   "source": [
    "word=input().split(',')\n",
    "l=min(len(w) for w in word)\n",
    "a=[]\n",
    "for i in range(l):\n",
    "    for w in word[1:]:\n",
    "        if w[i]!=word[0][i]:\n",
    "            break\n",
    "        else:\n",
    "            a.append(w[i])\n",
    "    if a==[]:\n",
    "        break\n",
    "      \n",
    "d={}\n",
    "for a1 in a:\n",
    "    if a1 not in d:\n",
    "        d[a1]=1\n",
    "    else:\n",
    "        d[a1]+=1\n",
    "\n",
    "ans=[]\n",
    "for key, value in d.items():  \n",
    "    if value>=len(word)-1:\n",
    "        ans.append(key)\n",
    "\n",
    "if ans==[]:\n",
    "    print(\"No common\")\n",
    "else:\n",
    "    print(''.join(ans))\n",
    "\n",
    "\n",
    "\n",
    "print(a)\n",
    "print(d)"
   ]
  },
  {
   "cell_type": "code",
   "execution_count": 137,
   "metadata": {},
   "outputs": [
    {
     "name": "stdout",
     "output_type": "stream",
     "text": [
      "False\n"
     ]
    }
   ],
   "source": [
    "num=[float(n) for n in input().split(\",\")]\n",
    "l=len(num)\n",
    "\n",
    "sum1=0\n",
    "sum2=0\n",
    "for i in range(l):\n",
    "    sum1=0\n",
    "    sum2=0  \n",
    "    a=num[:i+1]\n",
    "    b=num[i+1:l+1]\n",
    "    for a1 in a:\n",
    "        sum1+=a1\n",
    "    for b1 in b:\n",
    "        sum2+=b1\n",
    "    if sum1==sum2:\n",
    "        print(\"True\")\n",
    "        break\n",
    "else:\n",
    "    print(\"False\")"
   ]
  },
  {
   "cell_type": "code",
   "execution_count": 17,
   "metadata": {},
   "outputs": [
    {
     "name": "stdout",
     "output_type": "stream",
     "text": [
      "1000\n"
     ]
    }
   ],
   "source": [
    "num=sorted([int(n) for n in input()])\n",
    "num2=[str(n) for n in num]\n",
    "a=0\n",
    "for n in num2:\n",
    "    if n=='0':\n",
    "        a+=1\n",
    "if a>1:\n",
    "    num2=num2[a:]\n",
    "    num2.insert(1,'0'*a)\n",
    "elif a==1:\n",
    "    if num2[0]=='0':\n",
    "        num2.pop(0)\n",
    "        num2.insert(1,'0')\n",
    "\n",
    "num_sort=''.join(num2)\n",
    "print(num_sort)"
   ]
  },
  {
   "cell_type": "code",
   "execution_count": 20,
   "metadata": {},
   "outputs": [
    {
     "name": "stdout",
     "output_type": "stream",
     "text": [
      "innocuous iconoclastic "
     ]
    }
   ],
   "source": [
    "word=input().split(\" \")\n",
    "prefix=input()\n",
    "p_len=len(prefix)\n",
    "for w in word:\n",
    "    if w[:p_len]==prefix:\n",
    "        print(w, end=' ')"
   ]
  },
  {
   "cell_type": "code",
   "execution_count": 42,
   "metadata": {},
   "outputs": [
    {
     "name": "stdout",
     "output_type": "stream",
     "text": [
      "紫紅\n"
     ]
    }
   ],
   "source": [
    "word=[w for w in input()]\n",
    "i=0\n",
    "\n",
    "while i<len(word)-1:\n",
    "    if word[i]==word[i+1]:\n",
    "        word.pop(i)\n",
    "        word.pop(i)\n",
    "        i=0\n",
    "    elif word[i]!=word[i+1]:\n",
    "        i+=1\n",
    "        \n",
    "if word!=[]:\n",
    "    print(''.join(word))\n",
    "\n",
    "        \n",
    "\n",
    "        "
   ]
  },
  {
   "cell_type": "code",
   "execution_count": 96,
   "metadata": {},
   "outputs": [
    {
     "name": "stdout",
     "output_type": "stream",
     "text": [
      "黑紅\n"
     ]
    }
   ],
   "source": [
    "word=[w for w in input()]\n",
    "ele=[word[0]]\n",
    "\n",
    "for w in word[1:]:\n",
    "    ele.append(w)\n",
    "    if len(ele)<2:\n",
    "        continue\n",
    "    elif ele[-1]==ele[-2]:\n",
    "        ele.pop()\n",
    "        ele.pop()\n",
    "\n",
    "print(''.join(ele))\n"
   ]
  },
  {
   "cell_type": "code",
   "execution_count": 46,
   "metadata": {},
   "outputs": [
    {
     "name": "stdout",
     "output_type": "stream",
     "text": [
      "1\n"
     ]
    }
   ],
   "source": [
    "n=int(input())\n",
    "total=0\n",
    "for i in range(1,n+1):\n",
    "    total+=i**2\n",
    "print(total)"
   ]
  },
  {
   "cell_type": "code",
   "execution_count": 28,
   "metadata": {},
   "outputs": [
    {
     "name": "stdout",
     "output_type": "stream",
     "text": [
      "a\n"
     ]
    }
   ],
   "source": [
    "word=[w for w in input()]\n",
    "vowel=['a','e','i','o','u','A','E','I','O','U']\n",
    "i=[]\n",
    "for index,w in enumerate(word):\n",
    "    if w in vowel:\n",
    "        i.append(index)\n",
    "\n",
    "if i!=[]:\n",
    "    print(''.join(word[i[0]:i[-1]+1]))\n",
    "        "
   ]
  },
  {
   "cell_type": "code",
   "execution_count": 91,
   "metadata": {},
   "outputs": [
    {
     "name": "stdout",
     "output_type": "stream",
     "text": [
      "4\n"
     ]
    }
   ],
   "source": [
    "number=[n for n in input()]\n",
    "i=[]\n",
    "\n",
    "for index,n in enumerate(number):\n",
    "    if n=='1':\n",
    "        if index==0 or number[index-1]!='1':\n",
    "            i.append(index)\n",
    "print(len(i))"
   ]
  },
  {
   "cell_type": "code",
   "execution_count": 94,
   "metadata": {},
   "outputs": [
    {
     "name": "stdout",
     "output_type": "stream",
     "text": [
      "663\n"
     ]
    }
   ],
   "source": [
    "num={'I':1,'V':5,'X':10,'L':50,'C':100,'D':500,'M':1000}\n",
    "word=[w for w in input()]\n",
    "a=0\n",
    "for w in word:\n",
    "    if w in num:\n",
    "        if \n",
    "        a+=int(num[w])\n",
    "print(a)\n",
    "        "
   ]
  },
  {
   "cell_type": "code",
   "execution_count": 4,
   "metadata": {},
   "outputs": [
    {
     "name": "stdout",
     "output_type": "stream",
     "text": [
      "['W', 'A', 'O'] ['1', '1', '1'] [140, 70, 0] [0, 77, 0]\n",
      "1279\n"
     ]
    }
   ],
   "source": [
    "import math\n",
    "p=input().split()\n",
    "resident=[]\n",
    "gender=[]\n",
    "each_7=[]\n",
    "seven=[]\n",
    "count=0\n",
    "for p1 in p:\n",
    "    resident.append(p1[0]) #找出每個人的第一個字母-居住地\n",
    "    gender.append(p1[1])   #找出每個人的第二個數字-性別\n",
    "    if int(p1[7:])%7==0: #是否為7的倍數\n",
    "        seven.append(77)\n",
    "    else:\n",
    "        seven.append(0)\n",
    "    for p2 in p1:\n",
    "        if p2=='7': #計算每個身分證是否有7\n",
    "            count+=1 #如果有+1\n",
    "    count*=70\n",
    "    each_7.append(count) \n",
    "    count=0\n",
    "print(resident,gender,each_7,seven)  \n",
    "# 開始計算錢\n",
    "amount=[]\n",
    "for r in resident:\n",
    "    if r=='O':\n",
    "        amount.append(599)\n",
    "    else:\n",
    "        amount.append(699)\n",
    "price1=sum(amount)\n",
    "\n",
    "\n",
    "if len(set(resident))==3 and len(set(gender))==1:\n",
    "    price1*=0.8*0.8\n",
    "elif len(set(gender))==1 or len(set(resident))==3:\n",
    "    price1*=0.8\n",
    "# print(price1)\n",
    "\n",
    "\n",
    "a=list((amount[i]-each_7[i]-seven[i] for i in range(len(amount))))\n",
    "for i in a:\n",
    "    if i<0:\n",
    "        i=0\n",
    "    else:\n",
    "        i\n",
    "# print(a)\n",
    "price2=sum(a)\n",
    "# if sum(each_7)!=0 and sum(seven)!=0:\n",
    "#     price2-=(sum(each_7)*70+sum(seven)*77)\n",
    "# elif sum(each_7)!=0 and sum(seven)==0:\n",
    "#     price2-=sum(each_7)*70\n",
    "# elif sum(seven)!=0 and sum(each_7)==0:\n",
    "#     price2-=sum(seven)*77\n",
    "# print(price2)\n",
    "\n",
    "price=min(math.ceil(price1),int(price2))\n",
    "# if price<0:\n",
    "#     price=0\n",
    "\n",
    "print(price)"
   ]
  },
  {
   "cell_type": "code",
   "execution_count": 6,
   "metadata": {},
   "outputs": [
    {
     "name": "stdout",
     "output_type": "stream",
     "text": [
      "1810\n"
     ]
    }
   ],
   "source": [
    "import math\n",
    "\n",
    "a = input()\n",
    "b = input()\n",
    "c = input()\n",
    "\n",
    "p = [a, b, c]\n",
    "\n",
    "resident=[]\n",
    "gender=[]\n",
    "each_7=[]\n",
    "seven=[]\n",
    "count=0\n",
    "for p1 in p:\n",
    "    resident.append(p1[0]) #找出每個人的第一個字母-居住地\n",
    "    gender.append(p1[1])   #找出每個人的第二個數字-性別\n",
    "    if int(p1[7:])%7==0: #是否為7的倍數\n",
    "        seven.append(77)\n",
    "    else:\n",
    "        seven.append(0)\n",
    "    for p2 in p1:\n",
    "        if p2=='7': #計算每個身分證是否有7\n",
    "            count+=1 #如果有+1\n",
    "    count*=70\n",
    "    each_7.append(count) \n",
    "    count=0\n",
    "# print(resident,gender,each_7,seven)  \n",
    "\n",
    "# 開始計算錢\n",
    "amount=[]\n",
    "for r in resident:\n",
    "    if r=='O':\n",
    "        amount.append(599)\n",
    "    else:\n",
    "        amount.append(699)\n",
    "price1=sum(amount)\n",
    "\n",
    "\n",
    "if len(set(resident))==3 and len(set(gender))==1:\n",
    "    price1*=0.8*0.8\n",
    "elif len(set(gender))==1 or len(set(resident))==3:\n",
    "    price1*=0.8\n",
    "\n",
    "\n",
    "a=list((amount[i]-each_7[i]-seven[i] for i in range(len(amount))))\n",
    "for i in a:\n",
    "    if i<0:\n",
    "        i=0\n",
    "    else:\n",
    "        i\n",
    "price2=sum(a)\n",
    "\n",
    "price=min(math.ceil(price1),int(price2))\n",
    "print(price)"
   ]
  },
  {
   "cell_type": "code",
   "execution_count": 24,
   "metadata": {},
   "outputs": [
    {
     "name": "stdout",
     "output_type": "stream",
     "text": [
      "CeQAeNYBXaRb\n"
     ]
    }
   ],
   "source": [
    "# 寫法一\n",
    "def merge_s1s2(s1, s2):\n",
    "    ans=''\n",
    "    # 用zip合併\n",
    "    for ch1, ch2 in zip(s1,s2): \n",
    "        ans+=ch1+ch2\n",
    "    # 比長度，若較字串長則將全部放在合併後面\n",
    "    if len(s1)>len(s2):\n",
    "        ans+=s1[len(s2):]\n",
    "    elif len(s1)<len(s2):\n",
    "        ans+=s2[len(s1):]\n",
    "    return ans\n",
    "\n",
    "print(merge_s1s2(input(), input()))\n",
    "\n",
    "\n",
    "# 寫法二\n",
    "def merge_s(s1,s2):\n",
    "    ans=[]\n",
    "    l=max(len(s1),len(s2))\n",
    "    \n",
    "    for i in range(l):\n",
    "        if i < len(s1):\n",
    "            ans.append(s1[i])\n",
    "        if i < len(s2):\n",
    "            ans.append(s2[i])\n",
    "    return ans\n",
    "\n",
    "print(''.join(merge_s(input(),input())))\n",
    "        "
   ]
  },
  {
   "cell_type": "code",
   "execution_count": 8,
   "metadata": {},
   "outputs": [
    {
     "name": "stdout",
     "output_type": "stream",
     "text": [
      "[('B', 'M', 'M'), ('4', '2', '2')]\n",
      "[200, 40, 40] [40, 60, 60]\n",
      "不可\n"
     ]
    }
   ],
   "source": [
    "day1=input()\n",
    "day2=input()\n",
    "day3=input()\n",
    "drink={'M':[20,30],'B':[50,10]}\n",
    "coffee=[]\n",
    "sugar=[]\n",
    "p=list(zip(day1,day2,day3))\n",
    "# print(p)\n",
    "\n",
    "# 計算每個SET的咖啡因和含糖量\n",
    "for i in range(3):\n",
    "    if p[0][i]=='B':\n",
    "        coffee.append(drink['B'][0]*int(p[1:][i]))\n",
    "        sugar.append(drink['B'][1]*int(p[1:][i]))\n",
    "    if p[0][i]=='M': \n",
    "        coffee.append(drink['M'][0]*int(p[1:][i]))\n",
    "        sugar.append(drink['M'][1]*int(p[1:][i]))\n",
    "# print(coffee,sugar)\n",
    "\n",
    "# 計算是否符合標準\n",
    "if sum(coffee)<=700 and sum(sugar)<=150:\n",
    "    for c, s in zip(coffee, sugar):\n",
    "        if c>300 or s>60:\n",
    "            print('不可')\n",
    "            break\n",
    "    else:\n",
    "        print('可') \n",
    "else:\n",
    "    print('不可')\n",
    "            \n",
    "\n",
    "\n"
   ]
  },
  {
   "cell_type": "code",
   "execution_count": 11,
   "metadata": {},
   "outputs": [
    {
     "name": "stdout",
     "output_type": "stream",
     "text": [
      "M5\n",
      "B1\n",
      "B6\n"
     ]
    }
   ],
   "source": [
    "def plan(*args):\n",
    "    drink={'M':[20,30],'B':[50,10]}\n",
    "    coffee=[]\n",
    "    sugar=[]\n",
    "    \n",
    "    # 計算每個SET的咖啡因和含糖量\n",
    "    for p in args:\n",
    "        if p[0]=='B':\n",
    "            coffee.append(drink['B'][0]*int(p[1:]))\n",
    "            sugar.append(drink['B'][1]*int(p[1:]))\n",
    "        if p[0]=='M': \n",
    "            coffee.append(drink['M'][0]*int(p[1:]))\n",
    "            sugar.append(drink['M'][1]*int(p[1:]))\n",
    "    # print(coffee, sugar)\n",
    "    # 計算是否符合標準\n",
    "    if sum(coffee)<=700 and sum(sugar)<=150:\n",
    "        for c, s in zip(coffee, sugar):\n",
    "            if c>300 or s>60:\n",
    "                print('不可')\n",
    "                break\n",
    "        else:\n",
    "            print('可') \n",
    "    else:\n",
    "        print('不可')\n",
    "        \n",
    "day1=input()\n",
    "day2=input()\n",
    "day3=input()        \n",
    "plan(*day1.split(), *day2.split(), *day3.split())\n",
    "            "
   ]
  },
  {
   "cell_type": "code",
   "execution_count": 18,
   "metadata": {},
   "outputs": [
    {
     "name": "stdout",
     "output_type": "stream",
     "text": [
      "不可\n"
     ]
    }
   ],
   "source": [
    "def plan(*args):\n",
    "    drink = {'M': [20, 30], 'B': [50, 10]}\n",
    "    coffee = []\n",
    "    sugar = []\n",
    "    \n",
    "    for s in args:\n",
    "        coffee_type = s[0]\n",
    "        quantity = int(s[1:])\n",
    "        \n",
    "        if coffee_type == 'B':\n",
    "            coffee.append(drink['B'][0] * quantity)\n",
    "            sugar.append(drink['B'][1] * quantity)\n",
    "        elif coffee_type == 'M':\n",
    "            coffee.append(drink['M'][0] * quantity)\n",
    "            sugar.append(drink['M'][1] * quantity)\n",
    "    \n",
    "    if sum(coffee) <= 700 and sum(sugar) <= 150:\n",
    "        for c, s in zip(coffee, sugar):\n",
    "            if c > 300 and s > 60:\n",
    "                print('不可')\n",
    "                break\n",
    "        else:\n",
    "            print('可')\n",
    "    else:\n",
    "        print('不可')\n",
    "\n",
    "plan(*input().split())"
   ]
  },
  {
   "cell_type": "code",
   "execution_count": 22,
   "metadata": {},
   "outputs": [
    {
     "name": "stdout",
     "output_type": "stream",
     "text": [
      "Female\n"
     ]
    }
   ],
   "source": [
    "a={'B':0,'N':0,'Z':0,'A':1,'M':1,'W':1,'K':2,'L':2,'Y':2,'J':3,'V':3,'X':3,\n",
    "   'H':4,'U':4,'G':5,'T':5,'F':6,'S':6,'E':7,'R':7,'D':8,'O':8,'Q':8,'C':9,'I':9,'P':9}\n",
    "city=input()\n",
    "id_no=input()\n",
    "nos=0\n",
    "if city in a:\n",
    "    nos+=a[city]\n",
    "# print(nos)\n",
    "\n",
    "for i in id_no[:-1]:\n",
    "    nos+=int(i)*(len(id_no)-1)\n",
    "    # print(i,nos, int(i)*(len(id_no)-1))\n",
    "    id_no=id_no[1:]\n",
    "\n",
    "nos+=int(id_no[-1])*1\n",
    "nos1=nos+8\n",
    "nos2=nos+16\n",
    "# print(nos1,nos2)\n",
    "if nos1%10==0:\n",
    "    print('Male')\n",
    "elif nos2%10==0:\n",
    "    print('Female')\n"
   ]
  },
  {
   "cell_type": "code",
   "execution_count": 13,
   "metadata": {},
   "outputs": [
    {
     "name": "stdout",
     "output_type": "stream",
     "text": [
      "False\n"
     ]
    }
   ],
   "source": [
    "a=int(input())\n",
    "b=int(input())\n",
    "c=int(input())\n",
    "\n",
    "if a!=0 and b!=0 and c!=0:\n",
    "    if a+b>c and a+c>b and b+c>a:\n",
    "        print('True')\n",
    "    else:\n",
    "        print('False')"
   ]
  },
  {
   "cell_type": "code",
   "execution_count": 18,
   "metadata": {},
   "outputs": [
    {
     "name": "stdout",
     "output_type": "stream",
     "text": [
      "False\n"
     ]
    }
   ],
   "source": [
    "a=int(input())\n",
    "b=int(input())\n",
    "c=int(input())\n",
    "\n",
    "if a!=0 and b!=0 and c!=0:\n",
    "    if a+b>c and a+c>b and b+c>a:\n",
    "        if a**2+b**2==c**2 or b**2+c**2==a**2 or a**2+c**2==b**2:\n",
    "            print('True')\n",
    "        else:\n",
    "            print('False')\n",
    "    else:\n",
    "        print('False')"
   ]
  },
  {
   "cell_type": "code",
   "execution_count": 28,
   "metadata": {},
   "outputs": [
    {
     "name": "stdout",
     "output_type": "stream",
     "text": [
      "['', '', ''] ['2', '4']\n",
      "[('', '2'), ('', '4')]\n",
      "  2  4\n"
     ]
    }
   ],
   "source": [
    "a=input().split(\" \")\n",
    "b=input().split(\" \")\n",
    "print(a,b)\n",
    "c=list(zip(a,b))\n",
    "ans=''\n",
    "for a1,b1 in zip(a,b):\n",
    "    ans+=' '+a1+' '+b1  \n",
    "print(c)\n",
    "print(ans)\n",
    "# print(' '.join(c))"
   ]
  },
  {
   "cell_type": "code",
   "execution_count": 31,
   "metadata": {},
   "outputs": [
    {
     "name": "stdout",
     "output_type": "stream",
     "text": [
      "+-+-+-+\n",
      "-+-+-+-\n",
      "+-+-+-+\n",
      "-+-+-+-\n",
      "+-+-+-+\n",
      "\n"
     ]
    }
   ],
   "source": [
    "l = input()\n",
    "w = input()\n",
    "ans = ''\n",
    "\n",
    "for i in range(int(l) * int(w)):\n",
    "    if i % 2 == 0:\n",
    "        ans += '+'\n",
    "    else:\n",
    "        ans += '-'\n",
    "\n",
    "    if (i + 1) % int(l) == 0:  # 每行结束換行\n",
    "        ans += '\\n'\n",
    "\n",
    "print(ans)"
   ]
  },
  {
   "cell_type": "code",
   "execution_count": null,
   "metadata": {},
   "outputs": [],
   "source": [
    "student_number=input().split()\n",
    "# print(student_number)\n",
    "department=[]\n",
    "year=[]\n",
    "num=[]\n",
    "\n",
    "for st in student_number:\n",
    "    if st[3:6]=='902':\n",
    "        department.append(200)\n",
    "    elif st[3:6]=='901':\n",
    "        department.append(100)\n",
    "    else:\n",
    "        department.append(50)\n",
    "    if st[0:3]=='a04':\n",
    "        year.append(50)\n",
    "    else:\n",
    "        year.append(10)\n",
    "    if int(st[6:])%3==0 or int(st[6:])%5==0 or int(st[6:])%7==0:\n",
    "        num.append(5)\n",
    "    else:\n",
    "        num.append(1)\n",
    "        \n",
    "# print(department,year,num)\n",
    "ans=[]\n",
    "for i in range(len(department)):\n",
    "    new_value=department[i]+year[i]+num[i]\n",
    "    ans.append(new_value)\n",
    "#print(new_value)\n",
    "#print(ans)\n",
    "\n",
    "a=list(zip(student_number,ans))\n",
    "a_sorted=sorted(a, key=lambda x:x[1], reverse=True)\n",
    "\n",
    "for i, j in a_sorted:\n",
    "    print(i)    "
   ]
  },
  {
   "cell_type": "code",
   "execution_count": 13,
   "metadata": {},
   "outputs": [
    {
     "name": "stdout",
     "output_type": "stream",
     "text": [
      "1\n",
      "2\n",
      "5\n",
      "10\n"
     ]
    }
   ],
   "source": [
    "num = int(input())\n",
    "\n",
    "\n",
    "for i in range(1, num + 1):\n",
    "    if num % i == 0:\n",
    "        print(i)\n"
   ]
  },
  {
   "cell_type": "code",
   "execution_count": 14,
   "metadata": {},
   "outputs": [
    {
     "name": "stdout",
     "output_type": "stream",
     "text": [
      "{'武藏': 2, '小次郎': 1, '喵喵': 2}\n",
      "{'火箭隊': {'武藏': 1, '小次郎': 1, '喵喵': 1}, '小智一行人': {'小智': 1, '小霞': 1, '小剛': 1}}\n",
      "['火箭隊', '小智一行人', '火箭隊']\n"
     ]
    }
   ],
   "source": [
    "n=int(input())  #食材種類數\n",
    "food_type = {input().split()[i]:int(input().split()[i+1]) for i in range(0, len(input().split()), 2)}\n",
    "m=int(input())  #料理種類數\n",
    "food=[input() for i in range(m)]\n",
    "food_1={food[i].split()[0]:{food[i].split()[j]:int(food[i].split()[j+1]) for j in range(1, len(food[i].split()),2) } for i in range(len(food))}\n",
    "k=int(input()) #點餐數量\n",
    "order=[input() for i in range(k)]\n",
    "\n",
    "for o1 in order:\n",
    "    if o1 in food_1:\n",
    "        last=food_type[i] for i in food_type- food_1[o1][j] for j in food_1[o1]\n",
    "print(last)\n",
    "    \n",
    "\n"
   ]
  },
  {
   "cell_type": "code",
   "execution_count": 15,
   "metadata": {},
   "outputs": [
    {
     "name": "stdout",
     "output_type": "stream",
     "text": [
      "{'武藏': 2, '小次郎': 1, '喵喵': 2}\n",
      "{'火箭隊': {'武藏': 1, '小次郎': 1, '喵喵': 1}, '小智一行人': {'小智': 1, '小霞': 1, '小剛': 1}}\n",
      "['火箭隊', '小智一行人', '火箭隊']\n"
     ]
    }
   ],
   "source": [
    "print(food_data)\n",
    "print(food_1)\n",
    "print(order)"
   ]
  },
  {
   "cell_type": "code",
   "execution_count": 17,
   "metadata": {},
   "outputs": [
    {
     "ename": "NameError",
     "evalue": "name 'j' is not defined",
     "output_type": "error",
     "traceback": [
      "\u001b[1;31m---------------------------------------------------------------------------\u001b[0m",
      "\u001b[1;31mNameError\u001b[0m                                 Traceback (most recent call last)",
      "\u001b[1;32mc:\\Users\\YU HSIAO ROU\\Desktop\\cctest.ipynb Cell 152\u001b[0m line \u001b[0;36m3\n\u001b[0;32m      <a href='vscode-notebook-cell:/c%3A/Users/YU%20HSIAO%20ROU/Desktop/cctest.ipynb#Y306sZmlsZQ%3D%3D?line=0'>1</a>\u001b[0m \u001b[39mfor\u001b[39;00m o1 \u001b[39min\u001b[39;00m order:\n\u001b[0;32m      <a href='vscode-notebook-cell:/c%3A/Users/YU%20HSIAO%20ROU/Desktop/cctest.ipynb#Y306sZmlsZQ%3D%3D?line=1'>2</a>\u001b[0m     \u001b[39mif\u001b[39;00m o1 \u001b[39min\u001b[39;00m food_1:\n\u001b[1;32m----> <a href='vscode-notebook-cell:/c%3A/Users/YU%20HSIAO%20ROU/Desktop/cctest.ipynb#Y306sZmlsZQ%3D%3D?line=2'>3</a>\u001b[0m         last\u001b[39m=\u001b[39m{food_type[i] \u001b[39mfor\u001b[39;00m i \u001b[39min\u001b[39;00m food_type\u001b[39m-\u001b[39m food_1[o1][j] \u001b[39mfor\u001b[39;00m j \u001b[39min\u001b[39;00m food_1[o1]}\n\u001b[0;32m      <a href='vscode-notebook-cell:/c%3A/Users/YU%20HSIAO%20ROU/Desktop/cctest.ipynb#Y306sZmlsZQ%3D%3D?line=3'>4</a>\u001b[0m \u001b[39mprint\u001b[39m(last)\n",
      "\u001b[1;31mNameError\u001b[0m: name 'j' is not defined"
     ]
    }
   ],
   "source": [
    "for o1 in order:\n",
    "    if o1 in food_1:\n",
    "        last={food_type[i] for i in food_type-food_1[o1][j] for j in food_1[o1]}\n",
    "print(last)\n",
    "    "
   ]
  },
  {
   "cell_type": "code",
   "execution_count": 3,
   "metadata": {},
   "outputs": [
    {
     "name": "stdout",
     "output_type": "stream",
     "text": [
      "9876\n"
     ]
    }
   ],
   "source": [
    "def max_swap(n):\n",
    "    # 將數字轉換為字串方便操作\n",
    "    num_str = list(str(n))\n",
    "    \n",
    "    # 從最高位開始，找到第一個比後面數字小的位數\n",
    "    i = 0\n",
    "    while i < len(num_str) - 1 and num_str[i] >= num_str[i + 1]:\n",
    "        i += 1\n",
    "    \n",
    "    # 如果找到了，則交換這兩個數字\n",
    "    if i < len(num_str) - 1:\n",
    "        j = i + 1\n",
    "        while j < len(num_str) - 1 and num_str[i] < num_str[j + 1]:\n",
    "            j += 1\n",
    "        num_str[i], num_str[j] = num_str[j], num_str[i]\n",
    "    \n",
    "    # 將列表轉換回整數\n",
    "    result = int(''.join(num_str))\n",
    "    return result\n",
    "\n",
    "# 測試\n",
    "n = 9876\n",
    "result = max_swap(n)\n",
    "print(result)"
   ]
  },
  {
   "cell_type": "code",
   "execution_count": 5,
   "metadata": {},
   "outputs": [
    {
     "name": "stdout",
     "output_type": "stream",
     "text": [
      "99999788888\n"
     ]
    }
   ],
   "source": [
    "n=int(input())\n",
    "num=[int(n1) for n1 in str(n)]\n",
    "ans=n\n",
    "# 找出最大的數值\n",
    "max_nb=max(num)\n",
    "# 找出是否有一樣大的數值\n",
    "max_s=[i for i, n1 in enumerate(num) if n1==max_nb]\n",
    "\n",
    "# 將該數值與每一個位數交換看看，哪一個最大，記得要與不交換比\n",
    "for a1 in max_s:\n",
    "    for i, n1 in enumerate(num):\n",
    "        num[a1],num[i]=num[i],num[a1] #替換\n",
    "        num1=int(''.join(map(str, num))) #變成數字    \n",
    "        num[a1],num[i]=num[i],num[a1] #換回原本的\n",
    "        if num1>ans:\n",
    "            ans=num1\n",
    "print(ans)\n",
    "            \n",
    "               \n"
   ]
  },
  {
   "cell_type": "code",
   "execution_count": 28,
   "metadata": {},
   "outputs": [
    {
     "name": "stdout",
     "output_type": "stream",
     "text": [
      "98585855\n"
     ]
    }
   ],
   "source": [
    "n = int(input())\n",
    "num = [int(n1) for n1 in str(n)]\n",
    "ans = n\n",
    "\n",
    "for i in range(len(num)):\n",
    "    for j in range(i + 1, len(num)):\n",
    "        num[i], num[j] = num[j], num[i]  # 替換\n",
    "        num1 = int(''.join(map(str, num)))  # 變成數字\n",
    "        num[i], num[j] = num[j], num[i]  # 換回原本的\n",
    "\n",
    "        if num1 > ans:\n",
    "            ans = num1\n",
    "\n",
    "print(ans)"
   ]
  },
  {
   "cell_type": "code",
   "execution_count": 27,
   "metadata": {},
   "outputs": [
    {
     "name": "stdout",
     "output_type": "stream",
     "text": [
      "9876\n"
     ]
    }
   ],
   "source": [
    "n = int(input())\n",
    "num = [int(n1) for n1 in str(n)]\n",
    "ans = n\n",
    "\n",
    "for i in range(len(num) - 1):\n",
    "    if num[i] < max(num[i + 1:]):\n",
    "        max_index = max(range(i + 1, len(num)))\n",
    "        num[i], num[max_index] = num[max_index], num[i]  # 替換\n",
    "        ans = max(ans, int(''.join(map(str, num))))  # 更新最大值\n",
    "\n",
    "print(ans)"
   ]
  },
  {
   "cell_type": "code",
   "execution_count": 26,
   "metadata": {},
   "outputs": [
    {
     "name": "stdout",
     "output_type": "stream",
     "text": [
      "30\n"
     ]
    }
   ],
   "source": [
    "# num=input().split()\n",
    "# l=[]\n",
    "def max_mul(num):\n",
    "    l=[]\n",
    "    for i in range(len(num)-1): \n",
    "        l.append((int(num[i])*int(num[i+1])))\n",
    "    return(max(l))\n",
    "print(max_mul(input().split()))\n",
    "    "
   ]
  },
  {
   "cell_type": "code",
   "execution_count": 54,
   "metadata": {},
   "outputs": [
    {
     "name": "stdout",
     "output_type": "stream",
     "text": [
      "rich\n"
     ]
    }
   ],
   "source": [
    "def longest_str(l):\n",
    "    word_l=[len(w) for w in l]\n",
    "    max_l=max(word_l)\n",
    "    max_s=[i for i,m1 in enumerate(word_l) if m1==max_l]\n",
    "    return(l[max_s[0]])\n",
    "print(longest_str(input().split()))"
   ]
  },
  {
   "cell_type": "code",
   "execution_count": 64,
   "metadata": {},
   "outputs": [
    {
     "name": "stdout",
     "output_type": "stream",
     "text": [
      "[False, False, False, True, True, True, True]\n"
     ]
    }
   ],
   "source": [
    "def threshold(l,t):\n",
    "    grade=[int(i) for i in l]\n",
    "    ans=[]\n",
    "    for g1 in grade:\n",
    "        if g1>=t:\n",
    "            ans.append(True)\n",
    "        else:\n",
    "            ans.append(False)\n",
    "    return(ans)\n",
    "\n",
    "print(threshold(input().split(),int(input())))\n"
   ]
  },
  {
   "cell_type": "code",
   "execution_count": 102,
   "metadata": {},
   "outputs": [
    {
     "name": "stdout",
     "output_type": "stream",
     "text": [
      "6\n"
     ]
    }
   ],
   "source": [
    "from datetime import date\n",
    "\n",
    "year1, month1, day1 = map(int, input().split())\n",
    "year2, month2, day2 = map(int, input().split())\n",
    "\n",
    "date1 = date(year1, month1, day1)\n",
    "date2 = date(year2, month2, day2)\n",
    "\n",
    "difference = abs((date2 - date1).days)\n",
    "print(difference)"
   ]
  },
  {
   "cell_type": "code",
   "execution_count": 7,
   "metadata": {},
   "outputs": [
    {
     "name": "stdout",
     "output_type": "stream",
     "text": [
      "2.0 31.0\n",
      "80\n"
     ]
    }
   ],
   "source": [
    "from datetime import datetime\n",
    "date1=input()\n",
    "date2=input()\n",
    "i=input()\n",
    "\n",
    "date1=datetime.strptime(date1, \"%H:%M\")\n",
    "date2=datetime.strptime(date2, \"%H:%M\")\n",
    "\n",
    "if date2 <= datetime.strptime(\"23:59\", \"%H:%M\"):\n",
    "    d=(date2-date1).total_seconds()\n",
    "    hour, minute=d//3600,(d%3600)//60 #計算時跟分\n",
    "    print(hour, minute)\n",
    "    pay=0\n",
    "\n",
    "    if hour==0 and minute==0: #當小時和分鐘皆為0，則0元\n",
    "        pay=0\n",
    "    else:\n",
    "        pay=int(hour*2)*30 #其餘小時*2*20\n",
    "        \n",
    "        if 0<minute<=30: #若有分鐘，若30分鐘以內20元\n",
    "            pay+=20\n",
    "        elif minute>30: #30分鐘以上40元\n",
    "            pay+=40\n",
    "\n",
    "        \n",
    "    if i=='Y' and hour==0 and minute<30: #若有證件且停車小於30分鐘，0元\n",
    "        pay=0\n",
    "    elif i=='Y': #若有證件，大於30分鐘，則半價\n",
    "        pay*=0.5\n",
    "        \n",
    "print(int(pay))"
   ]
  },
  {
   "cell_type": "code",
   "execution_count": 3,
   "metadata": {},
   "outputs": [
    {
     "name": "stdout",
     "output_type": "stream",
     "text": [
      "30\n"
     ]
    }
   ],
   "source": [
    "from datetime import datetime\n",
    "\n",
    "def parking_fee(fee_rate, is_vip, entry_time, exit_time):\n",
    "\n",
    "    entry_time=datetime.strptime(entry_time, \"%H:%M\")\n",
    "    exit_time=datetime.strptime(exit_time, \"%H:%M\")\n",
    "\n",
    "    if exit_time <= datetime.strptime(\"23:59\", \"%H:%M\"):\n",
    "        d=(exit_time-entry_time).total_seconds()\n",
    "        hour, minute=d//3600,(d%3600)//60 #計算時跟分\n",
    "\n",
    "        pay=0\n",
    "\n",
    "        if hour==0 and minute==0: #當小時和分鐘皆為0，則0元\n",
    "            pay=0\n",
    "        else:\n",
    "            pay=int(hour*2)*int(fee_rate) #其餘小時*2*fee_rate\n",
    "            \n",
    "            if 0<minute<=30: #若有分鐘，若30分鐘以內20元\n",
    "                pay+=int(fee_rate)\n",
    "            elif minute>30: #30分鐘以上40元\n",
    "                pay+=(int(fee_rate)*2)\n",
    "\n",
    "            \n",
    "    if is_vip and hour==0 and minute<30: #若有證件且停車小於30分鐘，0元\n",
    "        pay=0\n",
    "    elif is_vip: #若有證件，大於30分鐘，則半價\n",
    "        pay*=0.5\n",
    "    \n",
    "    return int(pay)    \n",
    "\n",
    "fee_rate=int(input())\n",
    "is_vip=input()\n",
    "entry_time=input()\n",
    "exit_time=input()\n",
    "\n",
    "print(parking_fee(fee_rate, is_vip, entry_time, exit_time))\n"
   ]
  },
  {
   "cell_type": "code",
   "execution_count": 31,
   "metadata": {},
   "outputs": [
    {
     "name": "stdout",
     "output_type": "stream",
     "text": [
      "False\n"
     ]
    }
   ],
   "source": [
    "n=int(input())\n",
    "if n<=1:\n",
    "    print(\"False\")\n",
    "else:\n",
    "    for i in range(2, n):\n",
    "        if n%i==0:\n",
    "            print(\"False\")\n",
    "            break\n",
    "    else:\n",
    "        print(\"True\")\n"
   ]
  },
  {
   "cell_type": "code",
   "execution_count": 33,
   "metadata": {},
   "outputs": [
    {
     "name": "stdout",
     "output_type": "stream",
     "text": [
      "['2', '12', '24'] ['4', '6', '15']\n"
     ]
    }
   ],
   "source": [
    "l1=input().split()\n",
    "l2=input().split()\n",
    "print(l1,l2)"
   ]
  },
  {
   "cell_type": "code",
   "execution_count": 217,
   "metadata": {},
   "outputs": [
    {
     "name": "stdout",
     "output_type": "stream",
     "text": [
      "I have an 「「app」le」\n",
      "you are so 「cute」\n"
     ]
    }
   ],
   "source": [
    "# 輸入關鍵字\n",
    "word=input().split()\n",
    "\n",
    "# 輸入若干句子\n",
    "sentences=[]\n",
    "while True:\n",
    "    s=input()  \n",
    "    if s=='end':\n",
    "        break\n",
    "    sentences.append(s)\n",
    "    \n",
    "word.sort(key=len, reverse=True)\n",
    "    \n",
    "\n",
    "for s1 in sentences:\n",
    "    # replaced_word=''\n",
    "    for w in word:\n",
    "        if w in (\" \" +s1+ \" \"): #確保找到的是一個獨立的字\n",
    "            # if w not in replaced_word:\n",
    "            #     replaced_word = f'「{w}」'\n",
    "                s1=s1.replace(w,f'「{w}」') #替換成「」\n",
    "    print(s1)"
   ]
  },
  {
   "cell_type": "code",
   "execution_count": 228,
   "metadata": {},
   "outputs": [
    {
     "name": "stdout",
     "output_type": "stream",
     "text": [
      "今天的你不得不快樂\n",
      "今天的你不得不/\n",
      "[7]\n"
     ]
    },
    {
     "ename": "TypeError",
     "evalue": "'str' object does not support item assignment",
     "output_type": "error",
     "traceback": [
      "\u001b[1;31m---------------------------------------------------------------------------\u001b[0m",
      "\u001b[1;31mTypeError\u001b[0m                                 Traceback (most recent call last)",
      "Cell \u001b[1;32mIn[228], line 15\u001b[0m\n\u001b[0;32m     13\u001b[0m \u001b[38;5;28;01mfor\u001b[39;00m i, j \u001b[38;5;129;01min\u001b[39;00m \u001b[38;5;28menumerate\u001b[39m(s2):\n\u001b[0;32m     14\u001b[0m     \u001b[38;5;28;01mif\u001b[39;00m i \u001b[38;5;129;01min\u001b[39;00m index_s:\n\u001b[1;32m---> 15\u001b[0m         \u001b[43ms2\u001b[49m\u001b[43m[\u001b[49m\u001b[43mi\u001b[49m\u001b[43m]\u001b[49m\u001b[38;5;241m=\u001b[39m\u001b[38;5;124mf\u001b[39m\u001b[38;5;124m\"\u001b[39m\u001b[38;5;124m「\u001b[39m\u001b[38;5;132;01m{\u001b[39;00ms2[i]\u001b[38;5;132;01m}\u001b[39;00m\u001b[38;5;124m」\u001b[39m\u001b[38;5;124m\"\u001b[39m\n\u001b[0;32m     16\u001b[0m \u001b[38;5;28mprint\u001b[39m(\u001b[38;5;124m'\u001b[39m\u001b[38;5;124m \u001b[39m\u001b[38;5;124m'\u001b[39m\u001b[38;5;241m.\u001b[39mjoin(s2))\n",
      "\u001b[1;31mTypeError\u001b[0m: 'str' object does not support item assignment"
     ]
    }
   ],
   "source": [
    "word=['開心', '快樂', '愉悅']\n",
    "sen=['今天的你不得不快樂','快樂且愉悅']\n",
    "sen2=[]\n",
    "for s1 in sen:\n",
    "    s2=s1\n",
    "    print(s2)\n",
    "    for w in word:\n",
    "        if w in (\" \" +s1+ \" \"): #確保找到的是一個獨立的字\n",
    "            s1=s1.replace(w,'/') #替換成「」\n",
    "    print(s1)\n",
    "    index_s = [i for i, char in enumerate(s1) if char == '/']\n",
    "    print(index_s)\n",
    "    for i, j in enumerate(s2):\n",
    "        if i in index_s:\n",
    "            s2[i]=f\"「{s2[i]}」\"\n",
    "    print(' '.join(s2))\n",
    "\n",
    "       \n",
    "                         "
   ]
  },
  {
   "cell_type": "code",
   "execution_count": 219,
   "metadata": {},
   "outputs": [
    {
     "name": "stdout",
     "output_type": "stream",
     "text": [
      "今天的你不得不快樂\n",
      "快樂且愉悅\n"
     ]
    }
   ],
   "source": [
    "# 輸入關鍵字\n",
    "word=input().split()\n",
    "\n",
    "# 輸入若干句子\n",
    "sen=[]\n",
    "while True:\n",
    "    s=input()  \n",
    "    if s=='end':\n",
    "        break\n",
    "    sen.append(s)\n",
    "    \n",
    "word.sort(key=len, reverse=True)\n",
    "\n",
    "for s1 in sen:\n",
    "    s2=s1.split()\n",
    "    for w in word:\n",
    "        if w in (\" \" +s1+ \" \"): #確保找到的是一個獨立的字\n",
    "            s1=s1.replace(w,'/') #替換成「」\n",
    "    # print(s1)\n",
    "    index_s = [i for i, char in enumerate(s1.split()) if char == '/']\n",
    "    # print(index_s)\n",
    "    for i, j in enumerate(s2):\n",
    "        if i in index_s:\n",
    "            s2[i]=f\"「{s2[i]}」\"\n",
    "    print(' '.join(s2))"
   ]
  },
  {
   "cell_type": "code",
   "execution_count": 24,
   "metadata": {},
   "outputs": [
    {
     "name": "stdout",
     "output_type": "stream",
     "text": [
      "中華代表團出征東京奧運，目前累積2銀2銅，獨缺「//」還沒拿到，然而今（27日）參加女子59公斤級舉重賽事的「舉重女神」「///」也被看好有望奪金，果然稍早進行的比賽，她以抓舉103公斤、挺舉第一舉125公斤就成功，以總和228公斤海放其他選手，雖然比賽還沒結束，但也確定拿下「//」，同時完成了「「//」大滿貫」，也是本屆奧運中華代表團首面「//」。\n",
      "郭婞淳金牌金牌金牌金牌\n",
      "['郭', '婞', '淳', '金', '牌', '金', '牌', '金', '牌', '金', '牌']\n",
      "中華代表團出征東京奧運，目前累積2銀2銅，獨缺「郭婞」還沒拿到，然而今（27日）參加女子59公斤級舉重賽事的「舉重女神」「淳金牌」也被看好有望奪金，果然稍早進行的比賽，她以抓舉103公斤、挺舉第一舉125公斤就成功，以總和228公斤海放其他選手，雖然比賽還沒結束，但也確定拿下「金牌」，同時完成了「「金牌」大滿貫」，也是本屆奧運中華代表團首面「金牌」。\n"
     ]
    }
   ],
   "source": [
    "# 輸入關鍵字\n",
    "word=input().split()\n",
    "\n",
    "# 輸入若干句子\n",
    "sen=[]\n",
    "while True:\n",
    "    s=input()  \n",
    "    if s=='end':\n",
    "        break\n",
    "    sen.append(s)\n",
    "    \n",
    "word.sort(key=len, reverse=True)\n",
    "\n",
    "for s1 in sen:\n",
    "    l=''\n",
    "    for w in word:\n",
    "        if w in (\" \" +s1+ \" \"): #確保找到的是一個獨立的字\n",
    "            count=s1.count(w)\n",
    "            s1=s1.replace(w,'「'+'/'*len(w)+'」') #替換成「」\n",
    "            l+=w*count\n",
    "    l1=[i for i in l]\n",
    "    print(s1)\n",
    "    print(l)\n",
    "    print(l1)  \n",
    "     \n",
    "    result = ''\n",
    "\n",
    "    for s2 in s1:\n",
    "        if s2=='/':\n",
    "            result+=l1[0]\n",
    "            l1.pop(0)\n",
    "        else:\n",
    "            result+=s2\n",
    "\n",
    "    print(result)"
   ]
  },
  {
   "cell_type": "code",
   "execution_count": 246,
   "metadata": {},
   "outputs": [
    {
     "name": "stdout",
     "output_type": "stream",
     "text": [
      "今天的你不得不「22」「11」\n",
      "今天的你不得不「愉悅」「快樂」\n",
      "「11」且「22」「22」「33」\n",
      "「快樂」且「愉悅」「愉悅」「樂」\n"
     ]
    }
   ],
   "source": [
    "word=['開心', '快樂', '愉悅','樂']\n",
    "sen=['今天的你不得不愉悅快樂','快樂且愉悅愉悅樂']\n",
    "# word=['apple', 'app', 'cute']\n",
    "# sen=['I have an apple app','you are so cute']\n",
    "# word=['a', 'aa', 'aaa']\n",
    "# sen=['aaaaa']\n",
    "\n",
    "word.sort(key=len, reverse=True)\n",
    "\n",
    "for s1 in sen:\n",
    "    for w in word:\n",
    "        if w in (\" \" +s1+ \" \"): #確保找到的是一個獨立的字\n",
    "            count=s1.count(w)\n",
    "            s1=s1.replace(w,'「'+str(word.index(w))*2+'」') #替換成「」\n",
    "\n",
    "    print(s1)\n",
    " \n",
    "\n",
    "    for i in range(len(word)):\n",
    "        if str(i)*2 in s1:\n",
    "            s1=s1.replace(str(i)*2,word[i])\n",
    "    print(s1)\n",
    "            \n"
   ]
  },
  {
   "cell_type": "code",
   "execution_count": 251,
   "metadata": {},
   "outputs": [
    {
     "name": "stdout",
     "output_type": "stream",
     "text": [
      "中華代表團出征東京奧運，目前累積2銀2銅，獨缺「金牌」還沒拿到，然而今（27日）參加女子59公斤級舉重賽事的「舉重女神」「郭婞淳」也被看好有望奪金，果然稍早進行的比賽，她以抓舉103公斤、挺舉第一舉125公斤就成功，以總和228公斤海放其他選手，雖然比賽還沒結束，但也確定拿下「金牌」，同時完成了「「金牌」大滿貫」，也是本屆奧運中華代表團首面「金牌」。\n"
     ]
    }
   ],
   "source": [
    "# 輸入所有內容\n",
    "input_text = []\n",
    "while True:\n",
    "    s = input()  \n",
    "    if s == 'end':\n",
    "        break\n",
    "    input_text.append(s)\n",
    "\n",
    "# 得到關鍵字和句子\n",
    "word = input_text[0].split()\n",
    "sen = input_text[1:]\n",
    "\n",
    "word.sort(key=len, reverse=True)\n",
    "\n",
    "for s1 in sen:\n",
    "    for w in word:\n",
    "        if w in (\" \" +s1+ \" \"): #確保找到的是一個獨立的字\n",
    "            count=s1.count(w)\n",
    "            s1=s1.replace(w,f'/{str(word.index(w))}') #替換成「」\n",
    " \n",
    "    for i in range(len(word)):\n",
    "        if f'/{str(i)}' in s1:\n",
    "            s1=s1.replace(f'/{str(i)}',f'「{word[i]}」')\n",
    "    print(s1)"
   ]
  },
  {
   "cell_type": "code",
   "execution_count": 11,
   "metadata": {},
   "outputs": [
    {
     "name": "stdout",
     "output_type": "stream",
     "text": [
      "[]\n",
      "3 1 2\n"
     ]
    }
   ],
   "source": [
    "# S型分班\n",
    "num=input().split()\n",
    "char=input().split()\n",
    "\n",
    "zipped=[[n,c] for n, c in zip(num,char)]\n",
    "zipped_sort=sorted(zipped,key=lambda c:c[1])\n",
    "\n",
    "\n",
    "# 整理一個set為裡面有的字母\n",
    "char_set=sorted(set(char))\n",
    "\n",
    "# 輸出該set的時候，並由input中pop掉， 一直重複\n",
    "result=[]\n",
    "i=0\n",
    "while char_set:\n",
    "    for j in char_set:\n",
    "        for i in range(len(zipped_sort)):\n",
    "            if zipped_sort[i][1]==j:\n",
    "                result.append(zipped_sort[i])\n",
    "                zipped_sort.pop(i)\n",
    "                break\n",
    "    i+=1       \n",
    "     # 重新計算 char_set\n",
    "    if i//2==0:\n",
    "        char_set=sorted(set(item[1] for item in zipped_sort), reverse=False)\n",
    "    else:\n",
    "        char_set=sorted(set(item[1] for item in zipped_sort), reverse=True)\n",
    "    # print(char_set)\n",
    "\n",
    "   \n",
    "r = [str(n) for n, c in result]\n",
    "print(' '.join(r))"
   ]
  },
  {
   "cell_type": "code",
   "execution_count": 18,
   "metadata": {},
   "outputs": [
    {
     "name": "stdout",
     "output_type": "stream",
     "text": [
      "50\n",
      "['凱文 電腦 手機 錢包 鑰匙', '小明 電腦 手機 錢包 卡片 機車']\n",
      "[['凱文', '電腦', '手機', '錢包', '鑰匙'], ['小明', '電腦', '手機', '錢包', '卡片', '機車']]\n",
      "{'凱文': ['電腦', '手機', '錢包', '鑰匙'], '小明': ['電腦', '手機', '錢包', '卡片', '機車']}\n"
     ]
    }
   ],
   "source": [
    "# 輸入所有內容\n",
    "# input_text = []\n",
    "# while True:\n",
    "#     s=input()  \n",
    "#     if s=='end':\n",
    "#         break\n",
    "#     input_text.append(s)\n",
    "    \n",
    "# print(input_text)\n",
    "# 得到關鍵字和句子\n",
    "input_text=['50', '凱文 電腦 手機 錢包 鑰匙', '小明 電腦 手機 錢包 卡片 機車']\n",
    "key, *sen = input_text\n",
    "sen_1=[s.split() for s in sen]\n",
    "sen_2={s1[0]:s1[1:] for s1 in sen_1}\n",
    "\n",
    "# 計算每個人之間的相似程度"
   ]
  },
  {
   "cell_type": "code",
   "execution_count": 7,
   "metadata": {},
   "outputs": [
    {
     "name": "stdout",
     "output_type": "stream",
     "text": [
      "凱文 卡片 機車\n",
      "小明 鑰匙\n",
      "小美\n"
     ]
    }
   ],
   "source": [
    "# 輸入所有內容\n",
    "input_text = []\n",
    "while True:\n",
    "    s=input()  \n",
    "    if s=='end':\n",
    "        break\n",
    "    input_text.append(s)\n",
    "    \n",
    "key, *sen = input_text\n",
    "sen_1=[s.split() for s in sen]\n",
    "sen_2={s1[0]:s1[1:] for s1 in sen_1}\n",
    "\n",
    "# 找出相似程度 key 的人物對\n",
    "similar_pairs = {}\n",
    "\n",
    "for i in sen_2:\n",
    "    for j in sen_2:\n",
    "        if i != j:\n",
    "            common_items = set(sen_2[i]).intersection(sen_2[j])\n",
    "            similarity = round(len(common_items) / len(sen_2[i]), 2)\n",
    "            if similarity >= int(key) / 100:                \n",
    "                missing_items = [item for item in sen_2[j] if item not in sen_2[i]]\n",
    "                # print(missing_items)\n",
    "                if missing_items:\n",
    "                    if i in similar_pairs:\n",
    "                        # 檢查是否已經存在，不存在才加入\n",
    "                        for item in missing_items:\n",
    "                            if item not in similar_pairs[i]:\n",
    "                                similar_pairs[i].append(item)\n",
    "                    else:\n",
    "                        similar_pairs[i] = missing_items\n",
    "\n",
    "# 將相似度小於 key 且未被加入的人物加回去\n",
    "for s in sen_2:\n",
    "    if s not in similar_pairs:\n",
    "        similar_pairs[s] = []\n",
    "\n",
    "# 將結果按照輸入順序排序\n",
    "result = []\n",
    "for name, items in sen_2.items():\n",
    "    if name in similar_pairs:\n",
    "        unique_items = list(similar_pairs[name])\n",
    "        result.append((name, unique_items))\n",
    "\n",
    "# 輸出結果\n",
    "for name, items in result:\n",
    "    if items!=[]:\n",
    "        print(f'{name} {\" \".join(items)}')\n",
    "    else:\n",
    "        print(f'{name}')"
   ]
  },
  {
   "cell_type": "code",
   "execution_count": 58,
   "metadata": {},
   "outputs": [
    {
     "name": "stdout",
     "output_type": "stream",
     "text": [
      "3 3 1 50\n",
      "[[4, 7, 6, 1], [3, 0, 3, 1], [9, 3, 2, 1], [1, 5, 7, 3]]\n"
     ]
    }
   ],
   "source": [
    "row=int(3)\n",
    "col=int(3)\n",
    "l=[['4','7','6','1'],\n",
    "   ['3','0','3','1'],\n",
    "   ['9','3','2','1'],\n",
    "   ['1','5','7','3']]\n",
    "\n",
    "# 讀取第一行\n",
    "x, y, r, d = map(int, input().split())\n",
    "\n",
    "# 讀取後面的 y 行\n",
    "l = []\n",
    "for _ in range(y + 1):\n",
    "    row_values = list(map(int, input().split()))\n",
    "    l.append(row_values)\n",
    "print(x, y, r, d)\n",
    "print(l)\n"
   ]
  },
  {
   "cell_type": "code",
   "execution_count": 14,
   "metadata": {},
   "outputs": [
    {
     "name": "stdout",
     "output_type": "stream",
     "text": [
      "{(0, 0): 2, (0, 1): 5, (0, 2): 1, (0, 3): 4, (1, 0): 0, (1, 1): 1, (1, 2): 20, (1, 3): 5, (2, 0): 2, (2, 1): 3, (2, 2): 0, (2, 3): 10, (3, 0): 3, (3, 1): 4, (3, 2): 9, (3, 3): 2}\n",
      "2,71\n",
      "0"
     ]
    }
   ],
   "source": [
    "row = 4\n",
    "col = 3\n",
    "r = 1\n",
    "d = 40\n",
    "l = [\n",
    "    ['2', '5', '1', '4', '3'],\n",
    "    ['0', '1', '20', '5', '7'],\n",
    "    ['2', '3', '0', '10','1'],\n",
    "    ['3', '4', '9', '2','1']\n",
    "]\n",
    "\n",
    "# 讀取第一行\n",
    "row, col, r, d = map(int, input().split())\n",
    "\n",
    "# 讀取後面的 y 行\n",
    "l = []\n",
    "for _ in range(col + 1):\n",
    "    row_values = list(map(int, input().split()))\n",
    "    l.append(row_values)\n",
    "l.reverse()\n",
    "#print(l)\n",
    "\n",
    "coordinate_dict = {}\n",
    "g_count,l_count=0,0\n",
    "g_count_p={}\n",
    "result=0\n",
    "# 建立字典：座標＆數量\n",
    "for i in range(row+1):\n",
    "    for j in range(col+1):\n",
    "        coordinate_dict[(i, j)] = int(l[j][i])\n",
    "#print(coordinate_dict)        \n",
    "\n",
    "# 判斷母豬和小豬數量，當找到母豬時另外存一個字典\n",
    "for key, value in coordinate_dict.items():\n",
    "    if value == 0:\n",
    "        g_count+=1\n",
    "        g_count_p[key]=value\n",
    "    else:\n",
    "        l_count+=int(value)           \n",
    "print(f\"{g_count},{l_count}\",end = \"\\n\")\n",
    "# print(g_count_p)\n",
    "\n",
    "#每個母豬計算一次周圍小豬的數量\n",
    "for g_key, g_value in g_count_p.items():\n",
    "    coordinate_dict_r = {}\n",
    "    r_l_count=0\n",
    "    for c_key, c_value in coordinate_dict.items():\n",
    "        if (g_key[0]-c_key[0])**2 + (g_key[1]-c_key[1])**2 <= r**2 and c_value != 0 :\n",
    "            coordinate_dict_r[c_key] = c_value\n",
    "            # print(coordinate_dict_r)\n",
    "    for key, value in coordinate_dict_r.items():\n",
    "        r_l_count+=value\n",
    "        # print(r_l_count)\n",
    "        \n",
    "    if (r_l_count/l_count)*100 > d:\n",
    "        result+=0\n",
    "    else:\n",
    "        result+=1\n",
    "# print(result)\n",
    "            \n",
    "if result == g_count:\n",
    "    print(\"1\",end = '')\n",
    "else:\n",
    "    print(\"0\",end = '')\n"
   ]
  },
  {
   "cell_type": "code",
   "execution_count": 35,
   "metadata": {},
   "outputs": [
    {
     "name": "stdout",
     "output_type": "stream",
     "text": [
      "百分比: ['2.5']\n",
      "運費: ['運費100']\n",
      "免運: True\n",
      "滿打折: ['滿590打8折', '滿300打79折', '滿400打9折']\n"
     ]
    }
   ],
   "source": [
    "import re\n",
    "\n",
    "text = '6 599 2.5% 運費100 滿590打8折,滿300打79折,滿400打9折'\n",
    "text1 = '99 2050 免運'\n",
    "\n",
    "# 找出百分比\n",
    "percentage_pattern = r'\\d+\\.\\d+'\n",
    "percentages = re.findall(percentage_pattern, text)\n",
    "print('百分比:', percentages)\n",
    "\n",
    "# 找出運費\n",
    "shipping_fee_pattern = r'運費\\d+'\n",
    "shipping_fee = re.findall(shipping_fee_pattern, text)\n",
    "print('運費:', shipping_fee)\n",
    "\n",
    "# 找出免運\n",
    "free_shipping_pattern = r'免運'\n",
    "free_shipping = re.search(free_shipping_pattern, text1)\n",
    "print('免運:', bool(free_shipping))\n",
    "\n",
    "# 找出滿打折\n",
    "discount_pattern = r'滿\\d+打\\d+折'\n",
    "discounts = re.findall(discount_pattern, text)\n",
    "print('滿打折:', discounts)\n"
   ]
  },
  {
   "cell_type": "code",
   "execution_count": 50,
   "metadata": {},
   "outputs": [
    {
     "ename": "TypeError",
     "evalue": "can't multiply sequence by non-int of type 'str'",
     "output_type": "error",
     "traceback": [
      "\u001b[1;31m---------------------------------------------------------------------------\u001b[0m",
      "\u001b[1;31mTypeError\u001b[0m                                 Traceback (most recent call last)",
      "Cell \u001b[1;32mIn[50], line 30\u001b[0m\n\u001b[0;32m     27\u001b[0m Discount \u001b[38;5;241m=\u001b[39m \u001b[38;5;124mr\u001b[39m\u001b[38;5;124m'\u001b[39m\u001b[38;5;124m滿\u001b[39m\u001b[38;5;124m\\\u001b[39m\u001b[38;5;124md+打\u001b[39m\u001b[38;5;124m\\\u001b[39m\u001b[38;5;124md+折\u001b[39m\u001b[38;5;124m'\u001b[39m\n\u001b[0;32m     28\u001b[0m Discount_1 \u001b[38;5;241m=\u001b[39m re\u001b[38;5;241m.\u001b[39mfindall(Discount, S)\n\u001b[1;32m---> 30\u001b[0m S_price\u001b[38;5;241m=\u001b[39m(\u001b[43mprice\u001b[49m\u001b[38;5;241;43m*\u001b[39;49m\u001b[43mDiscount\u001b[49m\u001b[38;5;241m+\u001b[39mFee)\u001b[38;5;241m*\u001b[39m(\u001b[38;5;241m100\u001b[39m\u001b[38;5;241m-\u001b[39mRefund)\u001b[38;5;241m/\u001b[39m\u001b[38;5;241m100\u001b[39m\n\u001b[0;32m     31\u001b[0m \u001b[38;5;28mprint\u001b[39m(Quantity, price, Refund_1,Fee_1,\u001b[38;5;28mbool\u001b[39m(free_shipping_1),Discount_1)\n",
      "\u001b[1;31mTypeError\u001b[0m: can't multiply sequence by non-int of type 'str'"
     ]
    }
   ],
   "source": [
    "S=input()\n",
    "C=input()\n",
    "P=input()\n",
    "M=input()\n"
   ]
  },
  {
   "cell_type": "code",
   "execution_count": 18,
   "metadata": {},
   "outputs": [
    {
     "name": "stdout",
     "output_type": "stream",
     "text": [
      "P商店 0\n"
     ]
    }
   ],
   "source": [
    "import re\n",
    "\n",
    "def calculate_price(input_str):\n",
    "    i1 = input_str.split()\n",
    "    if i1[0] == '0':\n",
    "        return 0\n",
    "        \n",
    "    else:\n",
    "        # 找出價格\n",
    "        price = int(i1[1])  # 將價格轉換為整數\n",
    "\n",
    "        # 找出回饋\n",
    "        Refund_pattern = r'(\\d+(\\.\\d+)?)%'\n",
    "        match = re.search(Refund_pattern, input_str)\n",
    "        Refund_1 = float(match.group(1)) if match else 0\n",
    "        \n",
    "        # 找出運費\n",
    "        Fee_pattern = r'運費\\d+'\n",
    "        Fee_1 = int(re.search(Fee_pattern, input_str).group()[2:]) if re.search(Fee_pattern, input_str) else 0\n",
    "       \n",
    "   \n",
    "        # 找出折扣\n",
    "        Discount_pattern = r'滿(\\d+)打(\\d+)折'\n",
    "        Discounts_1 = re.findall(Discount_pattern, input_str)\n",
    "        Discount_total = []\n",
    "        Discount_price = 0\n",
    "\n",
    "        # 設置預設值\n",
    "        Discount_price = price\n",
    "        \n",
    "        if Discounts_1:\n",
    "            for amount, rate in Discounts_1:\n",
    "                if int(amount) <= price:\n",
    "                    if len(str(rate))==2:\n",
    "                        rate = int(rate) / 100\n",
    "                    else:\n",
    "                        rate = int(rate) / 10\n",
    "                    Discount_total.append(price*rate)\n",
    "            if Discount_total:\n",
    "                Discount_price = min(Discount_total)\n",
    "\n",
    "\n",
    "        # 計算最終價格\n",
    "        total_price = round((Discount_price + Fee_1) * (100 - Refund_1) / 100)\n",
    "        return total_price\n",
    "\n",
    "S = input()\n",
    "C = input()\n",
    "P = input()\n",
    "M = input()\n",
    "ans = []\n",
    "ans.append(['S', S.split()[0], calculate_price(S)])\n",
    "ans.append(['C', C.split()[0], calculate_price(C)])\n",
    "ans.append(['P', P.split()[0], calculate_price(P)])\n",
    "ans.append(['M', M.split()[0], calculate_price(M)])\n",
    "\n",
    "result = [item for item in ans if item[1] != '0']\n",
    "min_item = min(result, key=lambda x: x[2])\n",
    "\n",
    "# print(ans)\n",
    "\n",
    "print(f\"{min_item[0]}商店 {min_item[2]}\")"
   ]
  }
 ],
 "metadata": {
  "kernelspec": {
   "display_name": "Python 3",
   "language": "python",
   "name": "python3"
  },
  "language_info": {
   "codemirror_mode": {
    "name": "ipython",
    "version": 3
   },
   "file_extension": ".py",
   "mimetype": "text/x-python",
   "name": "python",
   "nbconvert_exporter": "python",
   "pygments_lexer": "ipython3",
   "version": "3.10.5"
  }
 },
 "nbformat": 4,
 "nbformat_minor": 2
}
